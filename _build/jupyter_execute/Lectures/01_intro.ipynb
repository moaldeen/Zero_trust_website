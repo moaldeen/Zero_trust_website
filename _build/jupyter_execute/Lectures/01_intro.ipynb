{
 "cells": [
  {
   "cell_type": "markdown",
   "id": "71ccf2f8",
   "metadata": {
    "id": "71ccf2f8"
   },
   "source": [
    "# Introduction to Zero Trust\n",
    "- Update: 2024\n",
    "- Duration: 75 minutes\n",
    "\n",
    "<hr>"
   ]
  },
  {
   "cell_type": "markdown",
   "id": "000a854b",
   "metadata": {
    "id": "000a854b"
   },
   "source": [
    "## Why Zero Trust?\n"
   ]
  },
  {
   "cell_type": "markdown",
   "id": "6130b92a",
   "metadata": {
    "id": "6130b92a"
   },
   "source": [
    "### Traditional Security Approaches\n",
    "\n",
    "Traditional security measures like firewalls and user ID/password systems were once considered sufficient to protect corporate networks. However, these systems have proven vulnerable to cybercriminals who exploit stolen credentials to gain unauthorized access, leading to data theft, manipulation, or ransomware attacks. The shift towards remote work, personal devices, and cloud services has further complicated the security landscape, making the corporate network perimeter less relevant. Instead, securing individual identities has become paramount.\n",
    "<!-- ![ml-examples.png](img/ml-examples.png) -->\n",
    "<center><img src=\"https://github.com/moaldeen/trustzone/blob/main/traditional.png?raw=true\" alt=\"ml-examples.png\" width=\"55%\"></center>"
   ]
  },
  {
   "cell_type": "markdown",
   "id": "d09bbab7",
   "metadata": {
    "id": "d09bbab7"
   },
   "source": [
    "### Security Breaches Example\n",
    "\n",
    "- Colonial Pipeline:\n",
    "\n",
    " Attackers took advantage of the fact that the VPN connection to Colonial Pipeline network was possible using a plain text password without any multi-factor authentication in-place.\n",
    "\n",
    "- Kudankulam Nuclear Power Plant:\n",
    "\n",
    "  Malware was discovered on an Indian nuclear power plant employee’s computer that was connected to the administrative network’s internet servers. Once the attackers gained access, they were able to roam within the network due to “trust” that comes with being inside the network.\n",
    "\n",
    "<div style=\"display: flex; justify-content: center;\">\n",
    "  <img src=\"https://github.com/moaldeen/trustzone/blob/main/password.png?raw=true\" alt=\"ml-examples.png\" width=\"30%\">\n",
    "  <img src=\"https://github.com/moaldeen/trustzone/blob/main/nuclear.png?raw=true\" alt=\"ml-examples.png\" width=\"25%\">\n",
    "</div>"
   ]
  },
  {
   "cell_type": "markdown",
   "id": "e4bbd2a9",
   "metadata": {
    "id": "e4bbd2a9"
   },
   "source": [
    "## What Is Zero Trust?"
   ]
  },
  {
   "cell_type": "markdown",
   "id": "d5fad2a0",
   "metadata": {
    "id": "d5fad2a0"
   },
   "source": [
    "\n",
    "\n",
    "The Zero Trust security model is a cybersecurity framework that operates on the principle of \"never trust, always verify.\" It assumes that threats exist both inside and outside the network, and therefore, every access request must be authenticated, authorized, and continuously validated regardless of its origin. For example, involves strong identity verification, validating device compliance before access, and least privilege access to resources.\n",
    "\n",
    "The **US National Institute of Standards and Technology** (**NIST**) SP 800-207 Zero Trust\n",
    "Architecture standard states the following:\n",
    "\n",
    "*“Zero trust assumes there is no implicit trust granted to assets or user accounts based solely on their physical or network location (that is, local area networks versus the internet) or based on asset ownership (enterprise or personally owned).”*\n",
    "\n",
    "A zero trust network is built upon five fundamental assertions:\n",
    "- The network is always assumed to be hostile.\n",
    "- External and internal threats exist on the network at all times\n",
    "- Network locality alone is not sufficient for deciding trust in a network.\n",
    "- Every device, user, and network flow is authenticated and authorized.\n",
    "- Policies must be dynamic and calculated from as many sources of data\n",
    "as possible.\n",
    "\n",
    "Traditional network security architecture breaks different networks (or pieces of a single network) into zones, contained by one or more firewalls. Each zone is granted some level of trust, which determines the network resources it is permitted to reach. This model provides very strong defensein- depth.\n",
    "\n",
    "\n",
    "<center><img src=\"https://github.com/moaldeen/trustzone/blob/main/zero-trust-vs-trust-based-network-shadow.png?raw=true\" alt=\"ml-examples.png\" width=\"50%\"></center>"
   ]
  },
  {
   "cell_type": "markdown",
   "id": "38eae19a",
   "metadata": {
    "id": "38eae19a"
   },
   "source": [
    "### Key Principles of Zero Trust\n",
    "\n",
    "- Always Verify.\n",
    "- Use Least-Privilege Access.\n",
    "- Assume Breach.\n",
    "\n",
    "<!-- ![sup-learning.png](img/sup-learning.png) -->\n",
    "<center><img src=\"https://github.com/moaldeen/trustzone/blob/main/concepts.jpg?raw=true\" alt=\"sup-learning.png\" width=\"40%\"></center>"
   ]
  },
  {
   "cell_type": "markdown",
   "id": "2vj0ENpCMAyI",
   "metadata": {
    "id": "2vj0ENpCMAyI"
   },
   "source": [
    "### Core tenants of Zero Trust Architecture\n",
    "\n",
    "<!-- ![sup-learning.png](img/sup-learning.png) -->\n",
    "<center><img src=\"https://image.slidesharecdn.com/zerotrustmodel-220117062537/75/Zero-Trust-Model-10-2048.jpg\" alt=\"sup-learning.png\" width=\"60%\"></center>"
   ]
  },
  {
   "cell_type": "markdown",
   "id": "1b5b083a",
   "metadata": {
    "id": "1b5b083a"
   },
   "source": [
    "### Zero Trust polices according to NIST 800-207 standard\n",
    "\n",
    "<center><img src=\"https://github.com/moaldeen/trustzone/blob/main/policies.jpg?raw=true\" alt=\"sup-learning.png\" width=\"50%\"></center>\n",
    "\n",
    "\n",
    "\n",
    "### Zero Trust Polices in Practice\n",
    "\n",
    "<center><img src=\"https://www.omnibud.com/nist%20logical%20component.png\" alt=\"sup-learning.png\" width=\"60%\"></center>\n",
    "\n",
    "\n"
   ]
  },
  {
   "cell_type": "markdown",
   "id": "7a43da51",
   "metadata": {
    "id": "7a43da51"
   },
   "source": [
    "#### Input features $X$ and target $y$"
   ]
  },
  {
   "cell_type": "markdown",
   "id": "e3b1c977",
   "metadata": {
    "id": "e3b1c977"
   },
   "source": [
    "\n",
    "Download SMS Spam Collection Dataset by running the following code:\n"
   ]
  },
  {
   "cell_type": "code",
   "execution_count": null,
   "id": "635061aa",
   "metadata": {
    "execution": {
     "iopub.execute_input": "2023-08-22T14:20:19.657016Z",
     "iopub.status.busy": "2023-08-22T14:20:19.656636Z",
     "iopub.status.idle": "2023-08-22T14:20:19.659779Z",
     "shell.execute_reply": "2023-08-22T14:20:19.659287Z"
    },
    "id": "635061aa"
   },
   "outputs": [],
   "source": [
    "cmle.download(\"data/spam.csv\")"
   ]
  },
  {
   "cell_type": "markdown",
   "id": "1f87412b",
   "metadata": {
    "id": "1f87412b"
   },
   "source": [
    "Load the dataset and show some samples:"
   ]
  },
  {
   "cell_type": "code",
   "execution_count": null,
   "id": "b025f00a",
   "metadata": {
    "execution": {
     "iopub.execute_input": "2023-08-22T14:20:19.662082Z",
     "iopub.status.busy": "2023-08-22T14:20:19.661883Z",
     "iopub.status.idle": "2023-08-22T14:20:19.863033Z",
     "shell.execute_reply": "2023-08-22T14:20:19.862428Z"
    },
    "id": "b025f00a",
    "outputId": "9d911c7c-69f6-49ea-e13f-0a1ec08465e9"
   },
   "outputs": [
    {
     "data": {
      "text/html": [
       "<style type=\"text/css\">\n",
       "#T_c6199_row0_col0, #T_c6199_row0_col1, #T_c6199_row1_col0, #T_c6199_row1_col1, #T_c6199_row2_col0, #T_c6199_row2_col1, #T_c6199_row3_col0, #T_c6199_row3_col1, #T_c6199_row4_col0, #T_c6199_row4_col1 {\n",
       "  text-align: left;\n",
       "}\n",
       "</style>\n",
       "<table id=\"T_c6199\">\n",
       "  <thead>\n",
       "    <tr>\n",
       "      <th class=\"blank level0\" >&nbsp;</th>\n",
       "      <th id=\"T_c6199_level0_col0\" class=\"col_heading level0 col0\" >target</th>\n",
       "      <th id=\"T_c6199_level0_col1\" class=\"col_heading level0 col1\" >sms</th>\n",
       "    </tr>\n",
       "  </thead>\n",
       "  <tbody>\n",
       "    <tr>\n",
       "      <th id=\"T_c6199_level0_row0\" class=\"row_heading level0 row0\" >3130</th>\n",
       "      <td id=\"T_c6199_row0_col0\" class=\"data row0 col0\" >spam</td>\n",
       "      <td id=\"T_c6199_row0_col1\" class=\"data row0 col1\" >LookAtMe!: Thanks for your purchase of a video clip from LookAtMe!, you've been charged 35p. Think you can do better? Why not send a video in a MMSto 32323.</td>\n",
       "    </tr>\n",
       "    <tr>\n",
       "      <th id=\"T_c6199_level0_row1\" class=\"row_heading level0 row1\" >106</th>\n",
       "      <td id=\"T_c6199_row1_col0\" class=\"data row1 col0\" >ham</td>\n",
       "      <td id=\"T_c6199_row1_col1\" class=\"data row1 col1\" >Aight, I'll hit you up when I get some cash</td>\n",
       "    </tr>\n",
       "    <tr>\n",
       "      <th id=\"T_c6199_level0_row2\" class=\"row_heading level0 row2\" >4697</th>\n",
       "      <td id=\"T_c6199_row2_col0\" class=\"data row2 col0\" >ham</td>\n",
       "      <td id=\"T_c6199_row2_col1\" class=\"data row2 col1\" >Don no da:)whats you plan?</td>\n",
       "    </tr>\n",
       "    <tr>\n",
       "      <th id=\"T_c6199_level0_row3\" class=\"row_heading level0 row3\" >856</th>\n",
       "      <td id=\"T_c6199_row3_col0\" class=\"data row3 col0\" >ham</td>\n",
       "      <td id=\"T_c6199_row3_col1\" class=\"data row3 col1\" >Going to take your babe out ?</td>\n",
       "    </tr>\n",
       "    <tr>\n",
       "      <th id=\"T_c6199_level0_row4\" class=\"row_heading level0 row4\" >3454</th>\n",
       "      <td id=\"T_c6199_row4_col0\" class=\"data row4 col0\" >ham</td>\n",
       "      <td id=\"T_c6199_row4_col1\" class=\"data row4 col1\" >No need lar. Jus testing e phone card. Dunno network not gd i thk. Me waiting 4 my sis 2 finish bathing so i can bathe. Dun disturb u liao u cleaning ur room.</td>\n",
       "    </tr>\n",
       "  </tbody>\n",
       "</table>\n"
      ],
      "text/plain": [
       "<pandas.io.formats.style.Styler at 0x7fee14383eb0>"
      ]
     },
     "execution_count": 3,
     "metadata": {},
     "output_type": "execute_result"
    }
   ],
   "source": [
    "sms_df = pd.read_csv(\"data/spam.csv\", encoding=\"latin-1\")\n",
    "sms_df = sms_df.drop(columns=[\"Unnamed: 2\", \"Unnamed: 3\", \"Unnamed: 4\"])\n",
    "sms_df = sms_df.rename(columns={\"v1\": \"target\", \"v2\": \"sms\"})\n",
    "train_df, test_df = train_test_split(sms_df, test_size=0.10, random_state=42)\n",
    "train_df.head().style.set_properties(**{\"text-align\": \"left\"})"
   ]
  },
  {
   "cell_type": "markdown",
   "id": "95ac262a",
   "metadata": {
    "id": "95ac262a"
   },
   "source": [
    "#### Training a supervised machine learning model with $X$ and $y$"
   ]
  },
  {
   "cell_type": "code",
   "execution_count": null,
   "id": "e16b4462",
   "metadata": {
    "execution": {
     "iopub.execute_input": "2023-08-22T14:20:19.867506Z",
     "iopub.status.busy": "2023-08-22T14:20:19.866412Z",
     "iopub.status.idle": "2023-08-22T14:20:20.222816Z",
     "shell.execute_reply": "2023-08-22T14:20:20.221806Z"
    },
    "id": "e16b4462",
    "outputId": "fbc2282f-6980-4c04-b41c-5836f70a6224"
   },
   "outputs": [
    {
     "data": {
      "text/html": [
       "<style>#sk-container-id-1 {color: black;background-color: white;}#sk-container-id-1 pre{padding: 0;}#sk-container-id-1 div.sk-toggleable {background-color: white;}#sk-container-id-1 label.sk-toggleable__label {cursor: pointer;display: block;width: 100%;margin-bottom: 0;padding: 0.3em;box-sizing: border-box;text-align: center;}#sk-container-id-1 label.sk-toggleable__label-arrow:before {content: \"▸\";float: left;margin-right: 0.25em;color: #696969;}#sk-container-id-1 label.sk-toggleable__label-arrow:hover:before {color: black;}#sk-container-id-1 div.sk-estimator:hover label.sk-toggleable__label-arrow:before {color: black;}#sk-container-id-1 div.sk-toggleable__content {max-height: 0;max-width: 0;overflow: hidden;text-align: left;background-color: #f0f8ff;}#sk-container-id-1 div.sk-toggleable__content pre {margin: 0.2em;color: black;border-radius: 0.25em;background-color: #f0f8ff;}#sk-container-id-1 input.sk-toggleable__control:checked~div.sk-toggleable__content {max-height: 200px;max-width: 100%;overflow: auto;}#sk-container-id-1 input.sk-toggleable__control:checked~label.sk-toggleable__label-arrow:before {content: \"▾\";}#sk-container-id-1 div.sk-estimator input.sk-toggleable__control:checked~label.sk-toggleable__label {background-color: #d4ebff;}#sk-container-id-1 div.sk-label input.sk-toggleable__control:checked~label.sk-toggleable__label {background-color: #d4ebff;}#sk-container-id-1 input.sk-hidden--visually {border: 0;clip: rect(1px 1px 1px 1px);clip: rect(1px, 1px, 1px, 1px);height: 1px;margin: -1px;overflow: hidden;padding: 0;position: absolute;width: 1px;}#sk-container-id-1 div.sk-estimator {font-family: monospace;background-color: #f0f8ff;border: 1px dotted black;border-radius: 0.25em;box-sizing: border-box;margin-bottom: 0.5em;}#sk-container-id-1 div.sk-estimator:hover {background-color: #d4ebff;}#sk-container-id-1 div.sk-parallel-item::after {content: \"\";width: 100%;border-bottom: 1px solid gray;flex-grow: 1;}#sk-container-id-1 div.sk-label:hover label.sk-toggleable__label {background-color: #d4ebff;}#sk-container-id-1 div.sk-serial::before {content: \"\";position: absolute;border-left: 1px solid gray;box-sizing: border-box;top: 0;bottom: 0;left: 50%;z-index: 0;}#sk-container-id-1 div.sk-serial {display: flex;flex-direction: column;align-items: center;background-color: white;padding-right: 0.2em;padding-left: 0.2em;position: relative;}#sk-container-id-1 div.sk-item {position: relative;z-index: 1;}#sk-container-id-1 div.sk-parallel {display: flex;align-items: stretch;justify-content: center;background-color: white;position: relative;}#sk-container-id-1 div.sk-item::before, #sk-container-id-1 div.sk-parallel-item::before {content: \"\";position: absolute;border-left: 1px solid gray;box-sizing: border-box;top: 0;bottom: 0;left: 50%;z-index: -1;}#sk-container-id-1 div.sk-parallel-item {display: flex;flex-direction: column;z-index: 1;position: relative;background-color: white;}#sk-container-id-1 div.sk-parallel-item:first-child::after {align-self: flex-end;width: 50%;}#sk-container-id-1 div.sk-parallel-item:last-child::after {align-self: flex-start;width: 50%;}#sk-container-id-1 div.sk-parallel-item:only-child::after {width: 0;}#sk-container-id-1 div.sk-dashed-wrapped {border: 1px dashed gray;margin: 0 0.4em 0.5em 0.4em;box-sizing: border-box;padding-bottom: 0.4em;background-color: white;}#sk-container-id-1 div.sk-label label {font-family: monospace;font-weight: bold;display: inline-block;line-height: 1.2em;}#sk-container-id-1 div.sk-label-container {text-align: center;}#sk-container-id-1 div.sk-container {/* jupyter's `normalize.less` sets `[hidden] { display: none; }` but bootstrap.min.css set `[hidden] { display: none !important; }` so we also need the `!important` here to be able to override the default hidden behavior on the sphinx rendered scikit-learn.org. See: https://github.com/scikit-learn/scikit-learn/issues/21755 */display: inline-block !important;position: relative;}#sk-container-id-1 div.sk-text-repr-fallback {display: none;}</style><div id=\"sk-container-id-1\" class=\"sk-top-container\"><div class=\"sk-text-repr-fallback\"><pre>Pipeline(steps=[(&#x27;vect&#x27;, CountVectorizer(max_features=5000)),\n",
       "                (&#x27;clf&#x27;, LogisticRegression(max_iter=5000))])</pre><b>In a Jupyter environment, please rerun this cell to show the HTML representation or trust the notebook. <br />On GitHub, the HTML representation is unable to render, please try loading this page with nbviewer.org.</b></div><div class=\"sk-container\" hidden><div class=\"sk-item sk-dashed-wrapped\"><div class=\"sk-label-container\"><div class=\"sk-label sk-toggleable\"><input class=\"sk-toggleable__control sk-hidden--visually\" id=\"sk-estimator-id-1\" type=\"checkbox\" ><label for=\"sk-estimator-id-1\" class=\"sk-toggleable__label sk-toggleable__label-arrow\">Pipeline</label><div class=\"sk-toggleable__content\"><pre>Pipeline(steps=[(&#x27;vect&#x27;, CountVectorizer(max_features=5000)),\n",
       "                (&#x27;clf&#x27;, LogisticRegression(max_iter=5000))])</pre></div></div></div><div class=\"sk-serial\"><div class=\"sk-item\"><div class=\"sk-estimator sk-toggleable\"><input class=\"sk-toggleable__control sk-hidden--visually\" id=\"sk-estimator-id-2\" type=\"checkbox\" ><label for=\"sk-estimator-id-2\" class=\"sk-toggleable__label sk-toggleable__label-arrow\">CountVectorizer</label><div class=\"sk-toggleable__content\"><pre>CountVectorizer(max_features=5000)</pre></div></div></div><div class=\"sk-item\"><div class=\"sk-estimator sk-toggleable\"><input class=\"sk-toggleable__control sk-hidden--visually\" id=\"sk-estimator-id-3\" type=\"checkbox\" ><label for=\"sk-estimator-id-3\" class=\"sk-toggleable__label sk-toggleable__label-arrow\">LogisticRegression</label><div class=\"sk-toggleable__content\"><pre>LogisticRegression(max_iter=5000)</pre></div></div></div></div></div></div></div>"
      ],
      "text/plain": [
       "Pipeline(steps=[('vect', CountVectorizer(max_features=5000)),\n",
       "                ('clf', LogisticRegression(max_iter=5000))])"
      ]
     },
     "execution_count": 4,
     "metadata": {},
     "output_type": "execute_result"
    }
   ],
   "source": [
    "X_train, y_train = train_df[\"sms\"], train_df[\"target\"]\n",
    "X_test, y_test = test_df[\"sms\"], test_df[\"target\"]\n",
    "\n",
    "clf = Pipeline([\n",
    "    (\"vect\", CountVectorizer(max_features=5000)),\n",
    "    (\"clf\", LogisticRegression(max_iter=5000)),\n",
    "])\n",
    "clf.fit(X_train, y_train)"
   ]
  },
  {
   "cell_type": "markdown",
   "id": "3061ab68",
   "metadata": {
    "id": "3061ab68"
   },
   "source": [
    "#### Predicting labels for unseen data using the trained model"
   ]
  },
  {
   "cell_type": "code",
   "execution_count": null,
   "id": "93b968ff",
   "metadata": {
    "execution": {
     "iopub.execute_input": "2023-08-22T14:20:20.226319Z",
     "iopub.status.busy": "2023-08-22T14:20:20.225926Z",
     "iopub.status.idle": "2023-08-22T14:20:20.247255Z",
     "shell.execute_reply": "2023-08-22T14:20:20.246718Z"
    },
    "id": "93b968ff",
    "outputId": "421d359c-880a-4e55-907c-8e29fc37ed82"
   },
   "outputs": [
    {
     "data": {
      "text/html": [
       "<style type=\"text/css\">\n",
       "#T_24379_row0_col0, #T_24379_row1_col0, #T_24379_row2_col0, #T_24379_row3_col0 {\n",
       "  text-align: left;\n",
       "}\n",
       "</style>\n",
       "<table id=\"T_24379\">\n",
       "  <thead>\n",
       "    <tr>\n",
       "      <th class=\"blank level0\" >&nbsp;</th>\n",
       "      <th id=\"T_24379_level0_col0\" class=\"col_heading level0 col0\" >sms</th>\n",
       "    </tr>\n",
       "  </thead>\n",
       "  <tbody>\n",
       "    <tr>\n",
       "      <th id=\"T_24379_level0_row0\" class=\"row_heading level0 row0\" >3245</th>\n",
       "      <td id=\"T_24379_row0_col0\" class=\"data row0 col0\" >Funny fact Nobody teaches volcanoes 2 erupt, tsunamis 2 arise, hurricanes 2 sway aroundn no 1 teaches hw 2 choose a wife Natural disasters just happens</td>\n",
       "    </tr>\n",
       "    <tr>\n",
       "      <th id=\"T_24379_level0_row1\" class=\"row_heading level0 row1\" >944</th>\n",
       "      <td id=\"T_24379_row1_col0\" class=\"data row1 col0\" >I sent my scores to sophas and i had to do secondary application for a few schools. I think if you are thinking of applying, do a research on cost also. Contact joke ogunrinde, her school is one me the less expensive ones</td>\n",
       "    </tr>\n",
       "    <tr>\n",
       "      <th id=\"T_24379_level0_row2\" class=\"row_heading level0 row2\" >1044</th>\n",
       "      <td id=\"T_24379_row2_col0\" class=\"data row2 col0\" >We know someone who you know that fancies you. Call 09058097218 to find out who. POBox 6, LS15HB 150p</td>\n",
       "    </tr>\n",
       "    <tr>\n",
       "      <th id=\"T_24379_level0_row3\" class=\"row_heading level0 row3\" >2484</th>\n",
       "      <td id=\"T_24379_row3_col0\" class=\"data row3 col0\" >Only if you promise your getting out as SOON as you can. And you'll text me in the morning to let me know you made it in ok.</td>\n",
       "    </tr>\n",
       "  </tbody>\n",
       "</table>\n"
      ],
      "text/plain": [
       "<pandas.io.formats.style.Styler at 0x7fedaa646830>"
      ]
     },
     "execution_count": 5,
     "metadata": {},
     "output_type": "execute_result"
    }
   ],
   "source": [
    "pd.DataFrame(X_test.iloc[0:4]).style.set_properties(**{\"text-align\": \"left\"})"
   ]
  },
  {
   "cell_type": "code",
   "execution_count": null,
   "id": "1136b256",
   "metadata": {
    "execution": {
     "iopub.execute_input": "2023-08-22T14:20:20.249833Z",
     "iopub.status.busy": "2023-08-22T14:20:20.249595Z",
     "iopub.status.idle": "2023-08-22T14:20:20.270344Z",
     "shell.execute_reply": "2023-08-22T14:20:20.269854Z"
    },
    "id": "1136b256",
    "outputId": "cd38c5e4-6a31-4afa-a282-7a20a8898a70"
   },
   "outputs": [
    {
     "data": {
      "text/html": [
       "<style type=\"text/css\">\n",
       "#T_62427_row0_col0, #T_62427_row0_col1, #T_62427_row0_col2, #T_62427_row1_col0, #T_62427_row1_col1, #T_62427_row1_col2, #T_62427_row2_col0, #T_62427_row2_col1, #T_62427_row2_col2, #T_62427_row3_col0, #T_62427_row3_col1, #T_62427_row3_col2 {\n",
       "  text-align: left;\n",
       "}\n",
       "</style>\n",
       "<table id=\"T_62427\">\n",
       "  <thead>\n",
       "    <tr>\n",
       "      <th class=\"blank level0\" >&nbsp;</th>\n",
       "      <th id=\"T_62427_level0_col0\" class=\"col_heading level0 col0\" >sms</th>\n",
       "      <th id=\"T_62427_level0_col1\" class=\"col_heading level0 col1\" >spam</th>\n",
       "      <th id=\"T_62427_level0_col2\" class=\"col_heading level0 col2\" >spam_predictions</th>\n",
       "    </tr>\n",
       "  </thead>\n",
       "  <tbody>\n",
       "    <tr>\n",
       "      <th id=\"T_62427_level0_row0\" class=\"row_heading level0 row0\" >3245</th>\n",
       "      <td id=\"T_62427_row0_col0\" class=\"data row0 col0\" >Funny fact Nobody teaches volcanoes 2 erupt, tsunamis 2 arise, hurricanes 2 sway aroundn no 1 teaches hw 2 choose a wife Natural disasters just happens</td>\n",
       "      <td id=\"T_62427_row0_col1\" class=\"data row0 col1\" >ham</td>\n",
       "      <td id=\"T_62427_row0_col2\" class=\"data row0 col2\" >ham</td>\n",
       "    </tr>\n",
       "    <tr>\n",
       "      <th id=\"T_62427_level0_row1\" class=\"row_heading level0 row1\" >944</th>\n",
       "      <td id=\"T_62427_row1_col0\" class=\"data row1 col0\" >I sent my scores to sophas and i had to do secondary application for a few schools. I think if you are thinking of applying, do a research on cost also. Contact joke ogunrinde, her school is one me the less expensive ones</td>\n",
       "      <td id=\"T_62427_row1_col1\" class=\"data row1 col1\" >ham</td>\n",
       "      <td id=\"T_62427_row1_col2\" class=\"data row1 col2\" >ham</td>\n",
       "    </tr>\n",
       "    <tr>\n",
       "      <th id=\"T_62427_level0_row2\" class=\"row_heading level0 row2\" >1044</th>\n",
       "      <td id=\"T_62427_row2_col0\" class=\"data row2 col0\" >We know someone who you know that fancies you. Call 09058097218 to find out who. POBox 6, LS15HB 150p</td>\n",
       "      <td id=\"T_62427_row2_col1\" class=\"data row2 col1\" >spam</td>\n",
       "      <td id=\"T_62427_row2_col2\" class=\"data row2 col2\" >spam</td>\n",
       "    </tr>\n",
       "    <tr>\n",
       "      <th id=\"T_62427_level0_row3\" class=\"row_heading level0 row3\" >2484</th>\n",
       "      <td id=\"T_62427_row3_col0\" class=\"data row3 col0\" >Only if you promise your getting out as SOON as you can. And you'll text me in the morning to let me know you made it in ok.</td>\n",
       "      <td id=\"T_62427_row3_col1\" class=\"data row3 col1\" >ham</td>\n",
       "      <td id=\"T_62427_row3_col2\" class=\"data row3 col2\" >ham</td>\n",
       "    </tr>\n",
       "  </tbody>\n",
       "</table>\n"
      ],
      "text/plain": [
       "<pandas.io.formats.style.Styler at 0x7fedaa647eb0>"
      ]
     },
     "execution_count": 6,
     "metadata": {},
     "output_type": "execute_result"
    }
   ],
   "source": [
    "pred_dict = {\n",
    "    \"sms\": X_test.iloc[0:4],\n",
    "    \"spam\": y_test.iloc[0:4],  # actual spam\n",
    "    \"spam_predictions\": clf.predict(X_test.iloc[0:4]),\n",
    "}\n",
    "pred_df = pd.DataFrame(pred_dict)\n",
    "pred_df.style.set_properties(**{\"text-align\": \"left\"})"
   ]
  },
  {
   "cell_type": "markdown",
   "id": "694daa0c",
   "metadata": {
    "id": "694daa0c"
   },
   "source": [
    "**We have accurately predicted labels for the unseen text messages above!**"
   ]
  },
  {
   "cell_type": "markdown",
   "id": "684a693b",
   "metadata": {
    "id": "684a693b"
   },
   "source": [
    "### (Supervised) Machine learning: a popular definition\n",
    "<blockquote>\n",
    "A field of study that gives computers the ability to learn without being explicitly programmed. <br> -- Arthur Samuel (1959)\n",
    "</blockquote>"
   ]
  },
  {
   "cell_type": "markdown",
   "id": "f3b7c174",
   "metadata": {
    "id": "f3b7c174"
   },
   "source": [
    "ML is a different way to think about problem-solving.\n",
    "\n",
    "<!-- ![traditional-programming-vs-ml.png](img/traditional-programming-vs-ml.png) -->\n",
    "<center><img src=\"https://yongkaw.people.clemson.edu/ece4420/img/traditional-programming-vs-ml.png\" alt=\"traditional-programming-vs-ml.png\" width=\"70%\"></center>"
   ]
  },
  {
   "cell_type": "markdown",
   "id": "85c9b089",
   "metadata": {
    "id": "85c9b089"
   },
   "source": [
    "### Examples\n",
    "\n",
    "Let's look at some concrete examples of supervised machine learning."
   ]
  },
  {
   "cell_type": "markdown",
   "id": "4d1b3e0c",
   "metadata": {
    "id": "4d1b3e0c"
   },
   "source": [
    "#### Example 1: Predicting whether a patient has a liver disease or not"
   ]
  },
  {
   "cell_type": "markdown",
   "id": "108515c2",
   "metadata": {
    "id": "108515c2"
   },
   "source": [
    "##### Input data\n",
    "\n",
    "Suppose we are interested in predicting whether a patient has the disease or not. We are given some tabular data with inputs and outputs of liver patients, as shown below. The data contains a number of input features and a special column called \"Target\" which is the output we are interested in predicting.\n",
    "\n",
    "Download the data from [here](https://www.kaggle.com/uciml/indian-liver-patient-records)."
   ]
  },
  {
   "cell_type": "code",
   "execution_count": null,
   "id": "1afc3fe0",
   "metadata": {
    "execution": {
     "iopub.execute_input": "2023-08-22T14:20:20.273861Z",
     "iopub.status.busy": "2023-08-22T14:20:20.273672Z",
     "iopub.status.idle": "2023-08-22T14:20:20.279070Z",
     "shell.execute_reply": "2023-08-22T14:20:20.276072Z"
    },
    "id": "1afc3fe0"
   },
   "outputs": [],
   "source": [
    "cmle.download(\"data/indian_liver_patient.csv\")"
   ]
  },
  {
   "cell_type": "code",
   "execution_count": null,
   "id": "da0f6d31",
   "metadata": {
    "execution": {
     "iopub.execute_input": "2023-08-22T14:20:20.281419Z",
     "iopub.status.busy": "2023-08-22T14:20:20.281233Z",
     "iopub.status.idle": "2023-08-22T14:20:20.322786Z",
     "shell.execute_reply": "2023-08-22T14:20:20.322345Z"
    },
    "id": "da0f6d31",
    "outputId": "1fb0153d-412f-4186-9921-db74995ec5bf",
    "tags": [
     "hide-input"
    ]
   },
   "outputs": [
    {
     "data": {
      "text/html": [
       "<div>\n",
       "<style scoped>\n",
       "    .dataframe tbody tr th:only-of-type {\n",
       "        vertical-align: middle;\n",
       "    }\n",
       "\n",
       "    .dataframe tbody tr th {\n",
       "        vertical-align: top;\n",
       "    }\n",
       "\n",
       "    .dataframe thead th {\n",
       "        text-align: right;\n",
       "    }\n",
       "</style>\n",
       "<table border=\"1\" class=\"dataframe\">\n",
       "  <thead>\n",
       "    <tr style=\"text-align: right;\">\n",
       "      <th></th>\n",
       "      <th>Age</th>\n",
       "      <th>Total_Bilirubin</th>\n",
       "      <th>Direct_Bilirubin</th>\n",
       "      <th>Alkaline_Phosphotase</th>\n",
       "      <th>Alamine_Aminotransferase</th>\n",
       "      <th>Aspartate_Aminotransferase</th>\n",
       "      <th>Total_Protiens</th>\n",
       "      <th>Albumin</th>\n",
       "      <th>Albumin_and_Globulin_Ratio</th>\n",
       "      <th>Target</th>\n",
       "    </tr>\n",
       "  </thead>\n",
       "  <tbody>\n",
       "    <tr>\n",
       "      <th>268</th>\n",
       "      <td>40</td>\n",
       "      <td>14.5</td>\n",
       "      <td>6.4</td>\n",
       "      <td>358</td>\n",
       "      <td>50</td>\n",
       "      <td>75</td>\n",
       "      <td>5.7</td>\n",
       "      <td>2.1</td>\n",
       "      <td>0.50</td>\n",
       "      <td>Disease</td>\n",
       "    </tr>\n",
       "    <tr>\n",
       "      <th>356</th>\n",
       "      <td>33</td>\n",
       "      <td>0.7</td>\n",
       "      <td>0.2</td>\n",
       "      <td>256</td>\n",
       "      <td>21</td>\n",
       "      <td>30</td>\n",
       "      <td>8.5</td>\n",
       "      <td>3.9</td>\n",
       "      <td>0.80</td>\n",
       "      <td>Disease</td>\n",
       "    </tr>\n",
       "    <tr>\n",
       "      <th>110</th>\n",
       "      <td>24</td>\n",
       "      <td>0.7</td>\n",
       "      <td>0.2</td>\n",
       "      <td>188</td>\n",
       "      <td>11</td>\n",
       "      <td>10</td>\n",
       "      <td>5.5</td>\n",
       "      <td>2.3</td>\n",
       "      <td>0.71</td>\n",
       "      <td>No Disease</td>\n",
       "    </tr>\n",
       "    <tr>\n",
       "      <th>488</th>\n",
       "      <td>60</td>\n",
       "      <td>0.7</td>\n",
       "      <td>0.2</td>\n",
       "      <td>171</td>\n",
       "      <td>31</td>\n",
       "      <td>26</td>\n",
       "      <td>7.0</td>\n",
       "      <td>3.5</td>\n",
       "      <td>1.00</td>\n",
       "      <td>No Disease</td>\n",
       "    </tr>\n",
       "    <tr>\n",
       "      <th>132</th>\n",
       "      <td>18</td>\n",
       "      <td>0.8</td>\n",
       "      <td>0.2</td>\n",
       "      <td>199</td>\n",
       "      <td>34</td>\n",
       "      <td>31</td>\n",
       "      <td>6.5</td>\n",
       "      <td>3.5</td>\n",
       "      <td>1.16</td>\n",
       "      <td>No Disease</td>\n",
       "    </tr>\n",
       "  </tbody>\n",
       "</table>\n",
       "</div>"
      ],
      "text/plain": [
       "     Age  Total_Bilirubin  Direct_Bilirubin  Alkaline_Phosphotase  \\\n",
       "268   40             14.5               6.4                   358   \n",
       "356   33              0.7               0.2                   256   \n",
       "110   24              0.7               0.2                   188   \n",
       "488   60              0.7               0.2                   171   \n",
       "132   18              0.8               0.2                   199   \n",
       "\n",
       "     Alamine_Aminotransferase  Aspartate_Aminotransferase  Total_Protiens  \\\n",
       "268                        50                          75             5.7   \n",
       "356                        21                          30             8.5   \n",
       "110                        11                          10             5.5   \n",
       "488                        31                          26             7.0   \n",
       "132                        34                          31             6.5   \n",
       "\n",
       "     Albumin  Albumin_and_Globulin_Ratio      Target  \n",
       "268      2.1                        0.50     Disease  \n",
       "356      3.9                        0.80     Disease  \n",
       "110      2.3                        0.71  No Disease  \n",
       "488      3.5                        1.00  No Disease  \n",
       "132      3.5                        1.16  No Disease  "
      ]
     },
     "execution_count": 8,
     "metadata": {},
     "output_type": "execute_result"
    }
   ],
   "source": [
    "df = pd.read_csv(\"data/indian_liver_patient.csv\")\n",
    "df = df.drop(columns=[\"Gender\"])\n",
    "df[\"Dataset\"] = df[\"Dataset\"].replace(1, \"Disease\")\n",
    "df[\"Dataset\"] = df[\"Dataset\"].replace(2, \"No Disease\")\n",
    "df.rename(columns={\"Dataset\": \"Target\"}, inplace=True)\n",
    "train_df, test_df = train_test_split(df, test_size=4, random_state=42)\n",
    "train_df.head()"
   ]
  },
  {
   "cell_type": "markdown",
   "id": "731be7ec",
   "metadata": {
    "id": "731be7ec"
   },
   "source": [
    "##### Building a supervised machine learning model\n",
    "\n",
    "Let's train a supervised machine learning model with the input and output above."
   ]
  },
  {
   "cell_type": "code",
   "execution_count": null,
   "id": "728ca330",
   "metadata": {
    "execution": {
     "iopub.execute_input": "2023-08-22T14:20:20.325685Z",
     "iopub.status.busy": "2023-08-22T14:20:20.325391Z",
     "iopub.status.idle": "2023-08-22T14:28:31.352779Z",
     "shell.execute_reply": "2023-08-22T14:28:31.352047Z"
    },
    "id": "728ca330",
    "outputId": "55e2f93c-6b07-4b1f-a81b-776f81b73ede"
   },
   "outputs": [
    {
     "data": {
      "text/html": [
       "<style>#sk-container-id-2 {color: black;background-color: white;}#sk-container-id-2 pre{padding: 0;}#sk-container-id-2 div.sk-toggleable {background-color: white;}#sk-container-id-2 label.sk-toggleable__label {cursor: pointer;display: block;width: 100%;margin-bottom: 0;padding: 0.3em;box-sizing: border-box;text-align: center;}#sk-container-id-2 label.sk-toggleable__label-arrow:before {content: \"▸\";float: left;margin-right: 0.25em;color: #696969;}#sk-container-id-2 label.sk-toggleable__label-arrow:hover:before {color: black;}#sk-container-id-2 div.sk-estimator:hover label.sk-toggleable__label-arrow:before {color: black;}#sk-container-id-2 div.sk-toggleable__content {max-height: 0;max-width: 0;overflow: hidden;text-align: left;background-color: #f0f8ff;}#sk-container-id-2 div.sk-toggleable__content pre {margin: 0.2em;color: black;border-radius: 0.25em;background-color: #f0f8ff;}#sk-container-id-2 input.sk-toggleable__control:checked~div.sk-toggleable__content {max-height: 200px;max-width: 100%;overflow: auto;}#sk-container-id-2 input.sk-toggleable__control:checked~label.sk-toggleable__label-arrow:before {content: \"▾\";}#sk-container-id-2 div.sk-estimator input.sk-toggleable__control:checked~label.sk-toggleable__label {background-color: #d4ebff;}#sk-container-id-2 div.sk-label input.sk-toggleable__control:checked~label.sk-toggleable__label {background-color: #d4ebff;}#sk-container-id-2 input.sk-hidden--visually {border: 0;clip: rect(1px 1px 1px 1px);clip: rect(1px, 1px, 1px, 1px);height: 1px;margin: -1px;overflow: hidden;padding: 0;position: absolute;width: 1px;}#sk-container-id-2 div.sk-estimator {font-family: monospace;background-color: #f0f8ff;border: 1px dotted black;border-radius: 0.25em;box-sizing: border-box;margin-bottom: 0.5em;}#sk-container-id-2 div.sk-estimator:hover {background-color: #d4ebff;}#sk-container-id-2 div.sk-parallel-item::after {content: \"\";width: 100%;border-bottom: 1px solid gray;flex-grow: 1;}#sk-container-id-2 div.sk-label:hover label.sk-toggleable__label {background-color: #d4ebff;}#sk-container-id-2 div.sk-serial::before {content: \"\";position: absolute;border-left: 1px solid gray;box-sizing: border-box;top: 0;bottom: 0;left: 50%;z-index: 0;}#sk-container-id-2 div.sk-serial {display: flex;flex-direction: column;align-items: center;background-color: white;padding-right: 0.2em;padding-left: 0.2em;position: relative;}#sk-container-id-2 div.sk-item {position: relative;z-index: 1;}#sk-container-id-2 div.sk-parallel {display: flex;align-items: stretch;justify-content: center;background-color: white;position: relative;}#sk-container-id-2 div.sk-item::before, #sk-container-id-2 div.sk-parallel-item::before {content: \"\";position: absolute;border-left: 1px solid gray;box-sizing: border-box;top: 0;bottom: 0;left: 50%;z-index: -1;}#sk-container-id-2 div.sk-parallel-item {display: flex;flex-direction: column;z-index: 1;position: relative;background-color: white;}#sk-container-id-2 div.sk-parallel-item:first-child::after {align-self: flex-end;width: 50%;}#sk-container-id-2 div.sk-parallel-item:last-child::after {align-self: flex-start;width: 50%;}#sk-container-id-2 div.sk-parallel-item:only-child::after {width: 0;}#sk-container-id-2 div.sk-dashed-wrapped {border: 1px dashed gray;margin: 0 0.4em 0.5em 0.4em;box-sizing: border-box;padding-bottom: 0.4em;background-color: white;}#sk-container-id-2 div.sk-label label {font-family: monospace;font-weight: bold;display: inline-block;line-height: 1.2em;}#sk-container-id-2 div.sk-label-container {text-align: center;}#sk-container-id-2 div.sk-container {/* jupyter's `normalize.less` sets `[hidden] { display: none; }` but bootstrap.min.css set `[hidden] { display: none !important; }` so we also need the `!important` here to be able to override the default hidden behavior on the sphinx rendered scikit-learn.org. See: https://github.com/scikit-learn/scikit-learn/issues/21755 */display: inline-block !important;position: relative;}#sk-container-id-2 div.sk-text-repr-fallback {display: none;}</style><div id=\"sk-container-id-2\" class=\"sk-top-container\"><div class=\"sk-text-repr-fallback\"><pre>LGBMClassifier(random_state=123)</pre><b>In a Jupyter environment, please rerun this cell to show the HTML representation or trust the notebook. <br />On GitHub, the HTML representation is unable to render, please try loading this page with nbviewer.org.</b></div><div class=\"sk-container\" hidden><div class=\"sk-item\"><div class=\"sk-estimator sk-toggleable\"><input class=\"sk-toggleable__control sk-hidden--visually\" id=\"sk-estimator-id-4\" type=\"checkbox\" checked><label for=\"sk-estimator-id-4\" class=\"sk-toggleable__label sk-toggleable__label-arrow\">LGBMClassifier</label><div class=\"sk-toggleable__content\"><pre>LGBMClassifier(random_state=123)</pre></div></div></div></div></div>"
      ],
      "text/plain": [
       "LGBMClassifier(random_state=123)"
      ]
     },
     "execution_count": 9,
     "metadata": {},
     "output_type": "execute_result"
    }
   ],
   "source": [
    "X_train = train_df.drop(columns=[\"Target\"])\n",
    "y_train = train_df[\"Target\"]\n",
    "X_test = test_df.drop(columns=[\"Target\"])\n",
    "y_test = test_df[\"Target\"]\n",
    "model = LGBMClassifier(random_state=123)\n",
    "model.fit(X_train, y_train)"
   ]
  },
  {
   "cell_type": "markdown",
   "id": "ce77d954",
   "metadata": {
    "id": "ce77d954"
   },
   "source": [
    "##### Model predictions on unseen data\n",
    "\n",
    "- Given the features of new patients, we'll use this model to predict whether these patients have the liver disease or not."
   ]
  },
  {
   "cell_type": "code",
   "execution_count": null,
   "id": "9ddc8baa",
   "metadata": {
    "execution": {
     "iopub.execute_input": "2023-08-22T14:28:31.355707Z",
     "iopub.status.busy": "2023-08-22T14:28:31.355439Z",
     "iopub.status.idle": "2023-08-22T14:28:31.432965Z",
     "shell.execute_reply": "2023-08-22T14:28:31.432522Z"
    },
    "id": "9ddc8baa",
    "outputId": "fe83bfa0-2ea3-48e3-eeee-f87b4a9247ca"
   },
   "outputs": [
    {
     "data": {
      "text/html": [
       "<div>\n",
       "<style scoped>\n",
       "    .dataframe tbody tr th:only-of-type {\n",
       "        vertical-align: middle;\n",
       "    }\n",
       "\n",
       "    .dataframe tbody tr th {\n",
       "        vertical-align: top;\n",
       "    }\n",
       "\n",
       "    .dataframe thead th {\n",
       "        text-align: right;\n",
       "    }\n",
       "</style>\n",
       "<table border=\"1\" class=\"dataframe\">\n",
       "  <thead>\n",
       "    <tr style=\"text-align: right;\">\n",
       "      <th></th>\n",
       "      <th>Age</th>\n",
       "      <th>Total_Bilirubin</th>\n",
       "      <th>Direct_Bilirubin</th>\n",
       "      <th>Alkaline_Phosphotase</th>\n",
       "      <th>Alamine_Aminotransferase</th>\n",
       "      <th>Aspartate_Aminotransferase</th>\n",
       "      <th>Total_Protiens</th>\n",
       "      <th>Albumin</th>\n",
       "      <th>Albumin_and_Globulin_Ratio</th>\n",
       "      <th>Predicted_target</th>\n",
       "    </tr>\n",
       "  </thead>\n",
       "  <tbody>\n",
       "    <tr>\n",
       "      <th>0</th>\n",
       "      <td>19</td>\n",
       "      <td>1.4</td>\n",
       "      <td>0.8</td>\n",
       "      <td>178</td>\n",
       "      <td>13</td>\n",
       "      <td>26</td>\n",
       "      <td>8.0</td>\n",
       "      <td>4.6</td>\n",
       "      <td>1.30</td>\n",
       "      <td>No Disease</td>\n",
       "    </tr>\n",
       "    <tr>\n",
       "      <th>1</th>\n",
       "      <td>12</td>\n",
       "      <td>1.0</td>\n",
       "      <td>0.2</td>\n",
       "      <td>719</td>\n",
       "      <td>157</td>\n",
       "      <td>108</td>\n",
       "      <td>7.2</td>\n",
       "      <td>3.7</td>\n",
       "      <td>1.00</td>\n",
       "      <td>Disease</td>\n",
       "    </tr>\n",
       "    <tr>\n",
       "      <th>2</th>\n",
       "      <td>60</td>\n",
       "      <td>5.7</td>\n",
       "      <td>2.8</td>\n",
       "      <td>214</td>\n",
       "      <td>412</td>\n",
       "      <td>850</td>\n",
       "      <td>7.3</td>\n",
       "      <td>3.2</td>\n",
       "      <td>0.78</td>\n",
       "      <td>Disease</td>\n",
       "    </tr>\n",
       "    <tr>\n",
       "      <th>3</th>\n",
       "      <td>42</td>\n",
       "      <td>0.5</td>\n",
       "      <td>0.1</td>\n",
       "      <td>162</td>\n",
       "      <td>155</td>\n",
       "      <td>108</td>\n",
       "      <td>8.1</td>\n",
       "      <td>4.0</td>\n",
       "      <td>0.90</td>\n",
       "      <td>Disease</td>\n",
       "    </tr>\n",
       "  </tbody>\n",
       "</table>\n",
       "</div>"
      ],
      "text/plain": [
       "   Age  Total_Bilirubin  Direct_Bilirubin  Alkaline_Phosphotase  \\\n",
       "0   19              1.4               0.8                   178   \n",
       "1   12              1.0               0.2                   719   \n",
       "2   60              5.7               2.8                   214   \n",
       "3   42              0.5               0.1                   162   \n",
       "\n",
       "   Alamine_Aminotransferase  Aspartate_Aminotransferase  Total_Protiens  \\\n",
       "0                        13                          26             8.0   \n",
       "1                       157                         108             7.2   \n",
       "2                       412                         850             7.3   \n",
       "3                       155                         108             8.1   \n",
       "\n",
       "   Albumin  Albumin_and_Globulin_Ratio Predicted_target  \n",
       "0      4.6                        1.30       No Disease  \n",
       "1      3.7                        1.00          Disease  \n",
       "2      3.2                        0.78          Disease  \n",
       "3      4.0                        0.90          Disease  "
      ]
     },
     "execution_count": 10,
     "metadata": {},
     "output_type": "execute_result"
    }
   ],
   "source": [
    "pred_df = pd.DataFrame({\"Predicted_target\": model.predict(X_test).tolist()})\n",
    "\n",
    "df_concat = pd.concat([X_test.reset_index(drop=True), pred_df], axis=1)\n",
    "df_concat"
   ]
  },
  {
   "cell_type": "markdown",
   "id": "2dc786be",
   "metadata": {
    "id": "2dc786be"
   },
   "source": [
    "#### Example 2: Predicting the label of a given image\n",
    "\n",
    "Suppose you want to predict the label of a given image using supervised machine learning. We are using a pre-trained model here to predict labels of new unseen images.\n",
    "<!-- ![monkey.jpg](img/monkey.jpg) -->\n",
    "<center><img src=\"https://yongkaw.people.clemson.edu/ece4420/img/monkey.jpg\" alt=\"monkey.jpg\" width=\"25%\"></center>"
   ]
  },
  {
   "cell_type": "markdown",
   "id": "19ab24cc",
   "metadata": {
    "id": "19ab24cc"
   },
   "source": [
    "<!-- ![cat.jpg](img/cat.jpg) -->\n",
    "<center><img src=\"https://yongkaw.people.clemson.edu/ece4420/img/cat.jpg\" alt=\"cat.jpg\" width=\"45%\"></center>"
   ]
  },
  {
   "cell_type": "markdown",
   "id": "a77b4440",
   "metadata": {
    "id": "a77b4440"
   },
   "source": [
    "Demo: [Image Recognize](https://imagerecognize.com/#uploaded-img)\n",
    "\n",
    "- If you know deep learning, pytorch or tensorflow, it is easy to build a similar recognition system.\n",
    "- If you are interested in deep learning, take **ECE 8550** offered every spring."
   ]
  },
  {
   "cell_type": "markdown",
   "id": "a465f1da",
   "metadata": {
    "id": "a465f1da"
   },
   "source": [
    "#### Example 3: Predicting sentiment expressed in a movie review\n",
    "\n",
    "Suppose you are interested in predicting whether a given movie review is positive or negative. You can do it using supervised machine learning."
   ]
  },
  {
   "cell_type": "markdown",
   "id": "a6642097",
   "metadata": {
    "id": "a6642097"
   },
   "source": [
    "Download the data by running the following cell."
   ]
  },
  {
   "cell_type": "code",
   "execution_count": null,
   "id": "5e232b8c",
   "metadata": {
    "execution": {
     "iopub.execute_input": "2023-08-22T14:28:31.440222Z",
     "iopub.status.busy": "2023-08-22T14:28:31.439058Z",
     "iopub.status.idle": "2023-08-22T14:28:35.296678Z",
     "shell.execute_reply": "2023-08-22T14:28:35.296237Z"
    },
    "id": "5e232b8c",
    "outputId": "32796a7a-7e6c-4599-8af9-fb4c5416f43e",
    "tags": [
     "hide-input"
    ]
   },
   "outputs": [
    {
     "data": {
      "text/html": [
       "<style type=\"text/css\">\n",
       "#T_957c8_row0_col0, #T_957c8_row0_col1 {\n",
       "  text-align: left;\n",
       "}\n",
       "</style>\n",
       "<table id=\"T_957c8\">\n",
       "  <thead>\n",
       "    <tr>\n",
       "      <th class=\"blank level0\" >&nbsp;</th>\n",
       "      <th id=\"T_957c8_level0_col0\" class=\"col_heading level0 col0\" >review</th>\n",
       "      <th id=\"T_957c8_level0_col1\" class=\"col_heading level0 col1\" >target</th>\n",
       "    </tr>\n",
       "  </thead>\n",
       "  <tbody>\n",
       "    <tr>\n",
       "      <th id=\"T_957c8_level0_row0\" class=\"row_heading level0 row0\" >17812</th>\n",
       "      <td id=\"T_957c8_row0_col0\" class=\"data row0 col0\" >It may have been inevitable that with the onslaught of \"slasher\" movies in the early 1980's, that a few good ones might slip through the cracks. This is a great \"rare\" film from Jeff Lieberman, who insured his cult status with his memorable 1970's films \"Squirm\" and \"Blue Sunshine\".<br /><br />Five young people head into the Oregon mountains (this movie was actually shot on location) to do some camping and check out the deed to some land that one of them has acquired. Before long, they will predictably be terrorized by a bulky killer with an incredibly creepy wheezing laugh.<br /><br />\"Just Before Dawn\" is noticeably more ambitious, \"arty\", and intelligent than some slasher films. Lieberman actually fleshes out the characters - well, two of them, anyway - as much as a 90-minute-long film will allow him. The film has genuine moments of suspense and tension, and actually refrains from graphic gore, save for one killing right at the beginning.<br /><br />There is an above-average cast here, including Oscar winner George Kennedy, as a forest ranger who's understandably gone a little flaky from having been alone in the wilderness for too long. Jack Lemmon's son Chris, future Brian De Palma regular Gregg Henry, blonde lead Deborah Benson (it's too bad she hasn't become a more well-known performer, judging by her work here), Ralph Seymour (\"Ghoulies\"), Mike Kellin (\"Sleepaway Camp\"), and Jamie Rose (\"Chopper Chicks in Zombietown\") round out the cast.<br /><br />Some of the shots are interesting, and the early music score by Brad Feidel (now best known for his \"Terminator\" theme) is haunting and atmospheric.<br /><br />This is worth catching for the important plot twist at about the one hour mark, although a moment at about 75 minutes in involving the heroine and a tree and the killer is almost comical; it may actually remind a viewer of a cartoon! One of the most clever touches is the final dispatching of the killer, which I'd never seen before in a horror film and probably won't see again.<br /><br />I didn't give it 10 out of 10 because I can't honestly that I was that frightened. Still, it's an interesting slasher that is worthy of re-discovery.<br /><br />\"That deed don't mean nothing, son. Those mountains can't read.\"<br /><br />9/10</td>\n",
       "      <td id=\"T_957c8_row0_col1\" class=\"data row0 col1\" >pos</td>\n",
       "    </tr>\n",
       "  </tbody>\n",
       "</table>\n"
      ],
      "text/plain": [
       "<pandas.io.formats.style.Styler at 0x7fedaa645f90>"
      ]
     },
     "execution_count": 11,
     "metadata": {},
     "output_type": "execute_result"
    }
   ],
   "source": [
    "cmle.download(\"data/imdb_master.csv\")\n",
    "imdb_df = pd.read_csv(\"data/imdb_master.csv\", encoding=\"ISO-8859-1\")\n",
    "imdb_df = imdb_df[imdb_df[\"label\"].str.startswith((\"pos\", \"neg\"))]\n",
    "imdb_df = imdb_df.drop(columns=[\"Unnamed: 0\", \"type\", \"file\"])\n",
    "imdb_df.rename(columns={\"label\": \"target\"}, inplace=True)\n",
    "train_df, test_df = train_test_split(imdb_df, test_size=0.10, random_state=123)\n",
    "train_df.head(1).style.set_properties(**{\"text-align\": \"left\"})"
   ]
  },
  {
   "cell_type": "code",
   "execution_count": null,
   "id": "d164779d",
   "metadata": {
    "execution": {
     "iopub.execute_input": "2023-08-22T14:28:35.300504Z",
     "iopub.status.busy": "2023-08-22T14:28:35.299383Z",
     "iopub.status.idle": "2023-08-22T14:29:51.192773Z",
     "shell.execute_reply": "2023-08-22T14:29:51.191995Z"
    },
    "id": "d164779d",
    "outputId": "ff3b6f8d-141f-4689-dd93-e63361b32352"
   },
   "outputs": [
    {
     "data": {
      "text/html": [
       "<style>#sk-container-id-3 {color: black;background-color: white;}#sk-container-id-3 pre{padding: 0;}#sk-container-id-3 div.sk-toggleable {background-color: white;}#sk-container-id-3 label.sk-toggleable__label {cursor: pointer;display: block;width: 100%;margin-bottom: 0;padding: 0.3em;box-sizing: border-box;text-align: center;}#sk-container-id-3 label.sk-toggleable__label-arrow:before {content: \"▸\";float: left;margin-right: 0.25em;color: #696969;}#sk-container-id-3 label.sk-toggleable__label-arrow:hover:before {color: black;}#sk-container-id-3 div.sk-estimator:hover label.sk-toggleable__label-arrow:before {color: black;}#sk-container-id-3 div.sk-toggleable__content {max-height: 0;max-width: 0;overflow: hidden;text-align: left;background-color: #f0f8ff;}#sk-container-id-3 div.sk-toggleable__content pre {margin: 0.2em;color: black;border-radius: 0.25em;background-color: #f0f8ff;}#sk-container-id-3 input.sk-toggleable__control:checked~div.sk-toggleable__content {max-height: 200px;max-width: 100%;overflow: auto;}#sk-container-id-3 input.sk-toggleable__control:checked~label.sk-toggleable__label-arrow:before {content: \"▾\";}#sk-container-id-3 div.sk-estimator input.sk-toggleable__control:checked~label.sk-toggleable__label {background-color: #d4ebff;}#sk-container-id-3 div.sk-label input.sk-toggleable__control:checked~label.sk-toggleable__label {background-color: #d4ebff;}#sk-container-id-3 input.sk-hidden--visually {border: 0;clip: rect(1px 1px 1px 1px);clip: rect(1px, 1px, 1px, 1px);height: 1px;margin: -1px;overflow: hidden;padding: 0;position: absolute;width: 1px;}#sk-container-id-3 div.sk-estimator {font-family: monospace;background-color: #f0f8ff;border: 1px dotted black;border-radius: 0.25em;box-sizing: border-box;margin-bottom: 0.5em;}#sk-container-id-3 div.sk-estimator:hover {background-color: #d4ebff;}#sk-container-id-3 div.sk-parallel-item::after {content: \"\";width: 100%;border-bottom: 1px solid gray;flex-grow: 1;}#sk-container-id-3 div.sk-label:hover label.sk-toggleable__label {background-color: #d4ebff;}#sk-container-id-3 div.sk-serial::before {content: \"\";position: absolute;border-left: 1px solid gray;box-sizing: border-box;top: 0;bottom: 0;left: 50%;z-index: 0;}#sk-container-id-3 div.sk-serial {display: flex;flex-direction: column;align-items: center;background-color: white;padding-right: 0.2em;padding-left: 0.2em;position: relative;}#sk-container-id-3 div.sk-item {position: relative;z-index: 1;}#sk-container-id-3 div.sk-parallel {display: flex;align-items: stretch;justify-content: center;background-color: white;position: relative;}#sk-container-id-3 div.sk-item::before, #sk-container-id-3 div.sk-parallel-item::before {content: \"\";position: absolute;border-left: 1px solid gray;box-sizing: border-box;top: 0;bottom: 0;left: 50%;z-index: -1;}#sk-container-id-3 div.sk-parallel-item {display: flex;flex-direction: column;z-index: 1;position: relative;background-color: white;}#sk-container-id-3 div.sk-parallel-item:first-child::after {align-self: flex-end;width: 50%;}#sk-container-id-3 div.sk-parallel-item:last-child::after {align-self: flex-start;width: 50%;}#sk-container-id-3 div.sk-parallel-item:only-child::after {width: 0;}#sk-container-id-3 div.sk-dashed-wrapped {border: 1px dashed gray;margin: 0 0.4em 0.5em 0.4em;box-sizing: border-box;padding-bottom: 0.4em;background-color: white;}#sk-container-id-3 div.sk-label label {font-family: monospace;font-weight: bold;display: inline-block;line-height: 1.2em;}#sk-container-id-3 div.sk-label-container {text-align: center;}#sk-container-id-3 div.sk-container {/* jupyter's `normalize.less` sets `[hidden] { display: none; }` but bootstrap.min.css set `[hidden] { display: none !important; }` so we also need the `!important` here to be able to override the default hidden behavior on the sphinx rendered scikit-learn.org. See: https://github.com/scikit-learn/scikit-learn/issues/21755 */display: inline-block !important;position: relative;}#sk-container-id-3 div.sk-text-repr-fallback {display: none;}</style><div id=\"sk-container-id-3\" class=\"sk-top-container\"><div class=\"sk-text-repr-fallback\"><pre>Pipeline(steps=[(&#x27;vect&#x27;, CountVectorizer(max_features=1000)),\n",
       "                (&#x27;clf&#x27;, LogisticRegression(max_iter=1000))])</pre><b>In a Jupyter environment, please rerun this cell to show the HTML representation or trust the notebook. <br />On GitHub, the HTML representation is unable to render, please try loading this page with nbviewer.org.</b></div><div class=\"sk-container\" hidden><div class=\"sk-item sk-dashed-wrapped\"><div class=\"sk-label-container\"><div class=\"sk-label sk-toggleable\"><input class=\"sk-toggleable__control sk-hidden--visually\" id=\"sk-estimator-id-5\" type=\"checkbox\" ><label for=\"sk-estimator-id-5\" class=\"sk-toggleable__label sk-toggleable__label-arrow\">Pipeline</label><div class=\"sk-toggleable__content\"><pre>Pipeline(steps=[(&#x27;vect&#x27;, CountVectorizer(max_features=1000)),\n",
       "                (&#x27;clf&#x27;, LogisticRegression(max_iter=1000))])</pre></div></div></div><div class=\"sk-serial\"><div class=\"sk-item\"><div class=\"sk-estimator sk-toggleable\"><input class=\"sk-toggleable__control sk-hidden--visually\" id=\"sk-estimator-id-6\" type=\"checkbox\" ><label for=\"sk-estimator-id-6\" class=\"sk-toggleable__label sk-toggleable__label-arrow\">CountVectorizer</label><div class=\"sk-toggleable__content\"><pre>CountVectorizer(max_features=1000)</pre></div></div></div><div class=\"sk-item\"><div class=\"sk-estimator sk-toggleable\"><input class=\"sk-toggleable__control sk-hidden--visually\" id=\"sk-estimator-id-7\" type=\"checkbox\" ><label for=\"sk-estimator-id-7\" class=\"sk-toggleable__label sk-toggleable__label-arrow\">LogisticRegression</label><div class=\"sk-toggleable__content\"><pre>LogisticRegression(max_iter=1000)</pre></div></div></div></div></div></div></div>"
      ],
      "text/plain": [
       "Pipeline(steps=[('vect', CountVectorizer(max_features=1000)),\n",
       "                ('clf', LogisticRegression(max_iter=1000))])"
      ]
     },
     "execution_count": 12,
     "metadata": {},
     "output_type": "execute_result"
    }
   ],
   "source": [
    "# Build an ML model\n",
    "X_train, y_train = train_df[\"review\"], train_df[\"target\"]\n",
    "X_test, y_test = test_df[\"review\"], test_df[\"target\"]\n",
    "\n",
    "clf = Pipeline([\n",
    "    (\"vect\", CountVectorizer(max_features=1000)),\n",
    "    (\"clf\", LogisticRegression(max_iter=1000)),\n",
    "])\n",
    "clf.fit(X_train, y_train)"
   ]
  },
  {
   "cell_type": "code",
   "execution_count": null,
   "id": "1c51e9f7",
   "metadata": {
    "execution": {
     "iopub.execute_input": "2023-08-22T14:29:51.199286Z",
     "iopub.status.busy": "2023-08-22T14:29:51.197626Z",
     "iopub.status.idle": "2023-08-22T14:29:51.227779Z",
     "shell.execute_reply": "2023-08-22T14:29:51.227163Z"
    },
    "id": "1c51e9f7",
    "outputId": "23c231ff-dfc3-4937-ba6c-4c55e3b8bd8d"
   },
   "outputs": [
    {
     "data": {
      "text/html": [
       "<style type=\"text/css\">\n",
       "#T_f8cbf_row0_col0, #T_f8cbf_row0_col1, #T_f8cbf_row1_col0, #T_f8cbf_row1_col1, #T_f8cbf_row2_col0, #T_f8cbf_row2_col1 {\n",
       "  text-align: left;\n",
       "}\n",
       "</style>\n",
       "<table id=\"T_f8cbf\">\n",
       "  <thead>\n",
       "    <tr>\n",
       "      <th class=\"blank level0\" >&nbsp;</th>\n",
       "      <th id=\"T_f8cbf_level0_col0\" class=\"col_heading level0 col0\" >reviews</th>\n",
       "      <th id=\"T_f8cbf_level0_col1\" class=\"col_heading level0 col1\" >sentiment_predictions</th>\n",
       "    </tr>\n",
       "  </thead>\n",
       "  <tbody>\n",
       "    <tr>\n",
       "      <th id=\"T_f8cbf_level0_row0\" class=\"row_heading level0 row0\" >11872</th>\n",
       "      <td id=\"T_f8cbf_row0_col0\" class=\"data row0 col0\" >You'll feel like you've experienced a vacation in Hell after you have sat down and watched this horrible TV movie. This movie is an exercise in over-acting (very bad over-acting) to situations that made out to be more than what they are. I won't give away the plot, but once you realize why the people in this film are running from the native man in the film you will demand the two wasted hours of your life back. The only plus is seeing Marcia Brady running around in a bikini!</td>\n",
       "      <td id=\"T_f8cbf_row0_col1\" class=\"data row0 col1\" >neg</td>\n",
       "    </tr>\n",
       "    <tr>\n",
       "      <th id=\"T_f8cbf_level0_row1\" class=\"row_heading level0 row1\" >40828</th>\n",
       "      <td id=\"T_f8cbf_row1_col0\" class=\"data row1 col0\" >Bela Lugosi gets to play one of his rare good guy roles in a serial based upon the long running radio hit (which was also the source of a feature film where Lugosi played the villain.) Lugosi cuts a fine dashing figure and its sad that he didn't get more roles where he could be the guy in command in a good way. Here Chandu returns from the East in order to help the Princess Nadji who is being hunted by the leaders of the cult of Ubasti who need her to bring back from the dead the high priestess of their cult. This is a good looking globe trotting serial that is a great deal of fun. To be certain the pacing is a bit slack, more akin to one of Principals (the producing studios) features then a rip roaring adventure, but it's still enjoyable. This plays better than the two feature films that were cut from it because it allows for things to happen at their own pace instead of feeling rushed or having a sense that \"hey I missed something\". One of the trilogy of three good serials Lugosi made, the others being SOS Coast Guard and Phantom Creeps</td>\n",
       "      <td id=\"T_f8cbf_row1_col1\" class=\"data row1 col1\" >pos</td>\n",
       "    </tr>\n",
       "    <tr>\n",
       "      <th id=\"T_f8cbf_level0_row2\" class=\"row_heading level0 row2\" >36400</th>\n",
       "      <td id=\"T_f8cbf_row2_col0\" class=\"data row2 col0\" >When you wish for the dragon to eat every cast member, you know you're in for a bad ride.<br /><br />I went in with very, very low expectations, having read some of the other comments, and was not let down. Unlike some other cheap and failed movies, however, this one doesn't really remain hilariously (and unintentionally) funny throughout.<br /><br />-SPOILERS FOLLOW-<br /><br />First of all, plot it very inconsistent. Looking past the \"small\" mistakes, such as the dragon growing up in 3 hours, the whole idea it's based on is messed up. See, the movie wants us to believe that dragons came from outer space in the form of meteorites which really were dragon eggs. After explaining this, they show some peasant poking at one with his pitchfork and the dragon pops out. Later, the obligatory \"crazy scientist\" guy babbles on about how dragons outlived the dinosaurs. So apparently humans were around when dinosaurs were, or we just have a fine little plot hole here. The other major thing is that the lab is blown up with a force \"half as strong\" as what was used for Hiroshima. Then two guys later walk in to check everything out, and it's almost unscathed! There's even another dragon, which grew out of who knows what. All in all it's very predictable. As soon as the guy mentioned cloning, I guessed they'd clone a dragon. That means that our Mr. Smarty-pants security guy isn't so intuitive and smart as the movie would have you believe, if you ignore that I knew this film would be about, you know, dragons.<br /><br />Putting that aside, the second worst thing is the \"special effects.\" Others have mentioned the fake rocks falling during the beginning, the CG helicopter, and the dragon. It looks a bit better than a blob, but it ruined whatever it had going for it when it trudged down the hall in the same manner time after time. To their credit, the flying dragons in the beginning looked OK from far away (although the one in the cave is probably the worst one in the whole movie.) These things are funny to watch, however. The scenes where a million different shots of the same person facing different ways are shown are not. Nor are the \"introduction\" screens with the vital stats.<br /><br />Coming to the actors, they weren't the greatest, but I guess at least they tried? They seemed more enthusiastic about what they were doing than many of the actors participating in the recent \"BloodRayne,\" for example, and you've got to give them points for that. One thing I noticed though was that the woman who plays Meredith often had her face covered in make-up that was many tones lighter than the rest of her. She looked like she had a bad run-in with some white-face.<br /><br />The script is bad and cheesy. You don't really notice the music, but it's actually not too bad for the most part.<br /><br />The bottom line is don't watch it unless you want to see it because you hear it's bad (like I did), although the only funny things are the bad CG effects. Other than that, don't waste your time and money.</td>\n",
       "      <td id=\"T_f8cbf_row2_col1\" class=\"data row2 col1\" >neg</td>\n",
       "    </tr>\n",
       "  </tbody>\n",
       "</table>\n"
      ],
      "text/plain": [
       "<pandas.io.formats.style.Styler at 0x7fedaa647a90>"
      ]
     },
     "execution_count": 13,
     "metadata": {},
     "output_type": "execute_result"
    }
   ],
   "source": [
    "# Predict on unseen data using the built model\n",
    "pred_dict = {\n",
    "    \"reviews\": X_test.iloc[0:3],\n",
    "    \"sentiment_predictions\": clf.predict(X_test.iloc[0:3]),\n",
    "}\n",
    "pred_df = pd.DataFrame(pred_dict)\n",
    "pred_df.style.set_properties(**{\"text-align\": \"left\"})"
   ]
  },
  {
   "cell_type": "markdown",
   "id": "e053b6dc",
   "metadata": {
    "id": "e053b6dc"
   },
   "source": [
    "#### Example 4: Predicting housing prices\n",
    "\n",
    "Suppose we want to predict housing prices given a number of attributes associated with houses."
   ]
  },
  {
   "cell_type": "markdown",
   "id": "34af32da",
   "metadata": {
    "id": "34af32da"
   },
   "source": [
    "Download the data from [here](https://www.kaggle.com/harlfoxem/housesalesprediction) or run the following cell."
   ]
  },
  {
   "cell_type": "code",
   "execution_count": null,
   "id": "0113f40c",
   "metadata": {
    "execution": {
     "iopub.execute_input": "2023-08-22T14:29:51.230573Z",
     "iopub.status.busy": "2023-08-22T14:29:51.230341Z",
     "iopub.status.idle": "2023-08-22T14:29:51.407961Z",
     "shell.execute_reply": "2023-08-22T14:29:51.407463Z"
    },
    "id": "0113f40c",
    "outputId": "f0787a41-cf8d-4a2e-edf1-88bd3bb6f6b5",
    "tags": [
     "hide-input"
    ]
   },
   "outputs": [
    {
     "data": {
      "text/html": [
       "<div>\n",
       "<style scoped>\n",
       "    .dataframe tbody tr th:only-of-type {\n",
       "        vertical-align: middle;\n",
       "    }\n",
       "\n",
       "    .dataframe tbody tr th {\n",
       "        vertical-align: top;\n",
       "    }\n",
       "\n",
       "    .dataframe thead th {\n",
       "        text-align: right;\n",
       "    }\n",
       "</style>\n",
       "<table border=\"1\" class=\"dataframe\">\n",
       "  <thead>\n",
       "    <tr style=\"text-align: right;\">\n",
       "      <th></th>\n",
       "      <th>target</th>\n",
       "      <th>bedrooms</th>\n",
       "      <th>bathrooms</th>\n",
       "      <th>sqft_living</th>\n",
       "      <th>sqft_lot</th>\n",
       "      <th>floors</th>\n",
       "      <th>waterfront</th>\n",
       "      <th>view</th>\n",
       "      <th>condition</th>\n",
       "      <th>grade</th>\n",
       "      <th>sqft_above</th>\n",
       "      <th>sqft_basement</th>\n",
       "      <th>yr_built</th>\n",
       "      <th>yr_renovated</th>\n",
       "      <th>zipcode</th>\n",
       "      <th>lat</th>\n",
       "      <th>long</th>\n",
       "      <th>sqft_living15</th>\n",
       "      <th>sqft_lot15</th>\n",
       "    </tr>\n",
       "  </thead>\n",
       "  <tbody>\n",
       "    <tr>\n",
       "      <th>8583</th>\n",
       "      <td>509000.0</td>\n",
       "      <td>2</td>\n",
       "      <td>1.50</td>\n",
       "      <td>1930</td>\n",
       "      <td>3521</td>\n",
       "      <td>2.0</td>\n",
       "      <td>0</td>\n",
       "      <td>0</td>\n",
       "      <td>3</td>\n",
       "      <td>8</td>\n",
       "      <td>1930</td>\n",
       "      <td>0</td>\n",
       "      <td>1989</td>\n",
       "      <td>0</td>\n",
       "      <td>98007</td>\n",
       "      <td>47.6092</td>\n",
       "      <td>-122.146</td>\n",
       "      <td>1840</td>\n",
       "      <td>3576</td>\n",
       "    </tr>\n",
       "    <tr>\n",
       "      <th>19257</th>\n",
       "      <td>675000.0</td>\n",
       "      <td>5</td>\n",
       "      <td>2.75</td>\n",
       "      <td>2570</td>\n",
       "      <td>12906</td>\n",
       "      <td>2.0</td>\n",
       "      <td>0</td>\n",
       "      <td>0</td>\n",
       "      <td>3</td>\n",
       "      <td>8</td>\n",
       "      <td>2570</td>\n",
       "      <td>0</td>\n",
       "      <td>1987</td>\n",
       "      <td>0</td>\n",
       "      <td>98075</td>\n",
       "      <td>47.5814</td>\n",
       "      <td>-122.050</td>\n",
       "      <td>2580</td>\n",
       "      <td>12927</td>\n",
       "    </tr>\n",
       "    <tr>\n",
       "      <th>1295</th>\n",
       "      <td>420000.0</td>\n",
       "      <td>3</td>\n",
       "      <td>1.00</td>\n",
       "      <td>1150</td>\n",
       "      <td>5120</td>\n",
       "      <td>1.0</td>\n",
       "      <td>0</td>\n",
       "      <td>0</td>\n",
       "      <td>4</td>\n",
       "      <td>6</td>\n",
       "      <td>800</td>\n",
       "      <td>350</td>\n",
       "      <td>1946</td>\n",
       "      <td>0</td>\n",
       "      <td>98116</td>\n",
       "      <td>47.5588</td>\n",
       "      <td>-122.392</td>\n",
       "      <td>1220</td>\n",
       "      <td>5120</td>\n",
       "    </tr>\n",
       "    <tr>\n",
       "      <th>15670</th>\n",
       "      <td>680000.0</td>\n",
       "      <td>8</td>\n",
       "      <td>2.75</td>\n",
       "      <td>2530</td>\n",
       "      <td>4800</td>\n",
       "      <td>2.0</td>\n",
       "      <td>0</td>\n",
       "      <td>0</td>\n",
       "      <td>4</td>\n",
       "      <td>7</td>\n",
       "      <td>1390</td>\n",
       "      <td>1140</td>\n",
       "      <td>1901</td>\n",
       "      <td>0</td>\n",
       "      <td>98112</td>\n",
       "      <td>47.6241</td>\n",
       "      <td>-122.305</td>\n",
       "      <td>1540</td>\n",
       "      <td>4800</td>\n",
       "    </tr>\n",
       "    <tr>\n",
       "      <th>3913</th>\n",
       "      <td>357823.0</td>\n",
       "      <td>3</td>\n",
       "      <td>1.50</td>\n",
       "      <td>1240</td>\n",
       "      <td>9196</td>\n",
       "      <td>1.0</td>\n",
       "      <td>0</td>\n",
       "      <td>0</td>\n",
       "      <td>3</td>\n",
       "      <td>8</td>\n",
       "      <td>1240</td>\n",
       "      <td>0</td>\n",
       "      <td>1968</td>\n",
       "      <td>0</td>\n",
       "      <td>98072</td>\n",
       "      <td>47.7562</td>\n",
       "      <td>-122.094</td>\n",
       "      <td>1690</td>\n",
       "      <td>10800</td>\n",
       "    </tr>\n",
       "  </tbody>\n",
       "</table>\n",
       "</div>"
      ],
      "text/plain": [
       "         target  bedrooms  bathrooms  sqft_living  sqft_lot  floors  \\\n",
       "8583   509000.0         2       1.50         1930      3521     2.0   \n",
       "19257  675000.0         5       2.75         2570     12906     2.0   \n",
       "1295   420000.0         3       1.00         1150      5120     1.0   \n",
       "15670  680000.0         8       2.75         2530      4800     2.0   \n",
       "3913   357823.0         3       1.50         1240      9196     1.0   \n",
       "\n",
       "       waterfront  view  condition  grade  sqft_above  sqft_basement  \\\n",
       "8583            0     0          3      8        1930              0   \n",
       "19257           0     0          3      8        2570              0   \n",
       "1295            0     0          4      6         800            350   \n",
       "15670           0     0          4      7        1390           1140   \n",
       "3913            0     0          3      8        1240              0   \n",
       "\n",
       "       yr_built  yr_renovated  zipcode      lat     long  sqft_living15  \\\n",
       "8583       1989             0    98007  47.6092 -122.146           1840   \n",
       "19257      1987             0    98075  47.5814 -122.050           2580   \n",
       "1295       1946             0    98116  47.5588 -122.392           1220   \n",
       "15670      1901             0    98112  47.6241 -122.305           1540   \n",
       "3913       1968             0    98072  47.7562 -122.094           1690   \n",
       "\n",
       "       sqft_lot15  \n",
       "8583         3576  \n",
       "19257       12927  \n",
       "1295         5120  \n",
       "15670        4800  \n",
       "3913        10800  "
      ]
     },
     "execution_count": 14,
     "metadata": {},
     "output_type": "execute_result"
    }
   ],
   "source": [
    "cmle.download(\"data/kc_house_data.csv\")\n",
    "df = pd.read_csv(\"data/kc_house_data.csv\")\n",
    "df = df.drop(columns=[\"id\", \"date\"])\n",
    "df.rename(columns={\"price\": \"target\"}, inplace=True)\n",
    "train_df, test_df = train_test_split(df, test_size=0.2, random_state=4)\n",
    "train_df.head()"
   ]
  },
  {
   "cell_type": "code",
   "execution_count": null,
   "id": "5cbc5110",
   "metadata": {
    "execution": {
     "iopub.execute_input": "2023-08-22T14:29:51.416362Z",
     "iopub.status.busy": "2023-08-22T14:29:51.414934Z",
     "iopub.status.idle": "2023-08-22T14:34:09.853621Z",
     "shell.execute_reply": "2023-08-22T14:34:09.853081Z"
    },
    "id": "5cbc5110",
    "outputId": "99c92967-e7f9-4e5a-9b50-a2f30023c75c"
   },
   "outputs": [
    {
     "data": {
      "text/html": [
       "<style>#sk-container-id-4 {color: black;background-color: white;}#sk-container-id-4 pre{padding: 0;}#sk-container-id-4 div.sk-toggleable {background-color: white;}#sk-container-id-4 label.sk-toggleable__label {cursor: pointer;display: block;width: 100%;margin-bottom: 0;padding: 0.3em;box-sizing: border-box;text-align: center;}#sk-container-id-4 label.sk-toggleable__label-arrow:before {content: \"▸\";float: left;margin-right: 0.25em;color: #696969;}#sk-container-id-4 label.sk-toggleable__label-arrow:hover:before {color: black;}#sk-container-id-4 div.sk-estimator:hover label.sk-toggleable__label-arrow:before {color: black;}#sk-container-id-4 div.sk-toggleable__content {max-height: 0;max-width: 0;overflow: hidden;text-align: left;background-color: #f0f8ff;}#sk-container-id-4 div.sk-toggleable__content pre {margin: 0.2em;color: black;border-radius: 0.25em;background-color: #f0f8ff;}#sk-container-id-4 input.sk-toggleable__control:checked~div.sk-toggleable__content {max-height: 200px;max-width: 100%;overflow: auto;}#sk-container-id-4 input.sk-toggleable__control:checked~label.sk-toggleable__label-arrow:before {content: \"▾\";}#sk-container-id-4 div.sk-estimator input.sk-toggleable__control:checked~label.sk-toggleable__label {background-color: #d4ebff;}#sk-container-id-4 div.sk-label input.sk-toggleable__control:checked~label.sk-toggleable__label {background-color: #d4ebff;}#sk-container-id-4 input.sk-hidden--visually {border: 0;clip: rect(1px 1px 1px 1px);clip: rect(1px, 1px, 1px, 1px);height: 1px;margin: -1px;overflow: hidden;padding: 0;position: absolute;width: 1px;}#sk-container-id-4 div.sk-estimator {font-family: monospace;background-color: #f0f8ff;border: 1px dotted black;border-radius: 0.25em;box-sizing: border-box;margin-bottom: 0.5em;}#sk-container-id-4 div.sk-estimator:hover {background-color: #d4ebff;}#sk-container-id-4 div.sk-parallel-item::after {content: \"\";width: 100%;border-bottom: 1px solid gray;flex-grow: 1;}#sk-container-id-4 div.sk-label:hover label.sk-toggleable__label {background-color: #d4ebff;}#sk-container-id-4 div.sk-serial::before {content: \"\";position: absolute;border-left: 1px solid gray;box-sizing: border-box;top: 0;bottom: 0;left: 50%;z-index: 0;}#sk-container-id-4 div.sk-serial {display: flex;flex-direction: column;align-items: center;background-color: white;padding-right: 0.2em;padding-left: 0.2em;position: relative;}#sk-container-id-4 div.sk-item {position: relative;z-index: 1;}#sk-container-id-4 div.sk-parallel {display: flex;align-items: stretch;justify-content: center;background-color: white;position: relative;}#sk-container-id-4 div.sk-item::before, #sk-container-id-4 div.sk-parallel-item::before {content: \"\";position: absolute;border-left: 1px solid gray;box-sizing: border-box;top: 0;bottom: 0;left: 50%;z-index: -1;}#sk-container-id-4 div.sk-parallel-item {display: flex;flex-direction: column;z-index: 1;position: relative;background-color: white;}#sk-container-id-4 div.sk-parallel-item:first-child::after {align-self: flex-end;width: 50%;}#sk-container-id-4 div.sk-parallel-item:last-child::after {align-self: flex-start;width: 50%;}#sk-container-id-4 div.sk-parallel-item:only-child::after {width: 0;}#sk-container-id-4 div.sk-dashed-wrapped {border: 1px dashed gray;margin: 0 0.4em 0.5em 0.4em;box-sizing: border-box;padding-bottom: 0.4em;background-color: white;}#sk-container-id-4 div.sk-label label {font-family: monospace;font-weight: bold;display: inline-block;line-height: 1.2em;}#sk-container-id-4 div.sk-label-container {text-align: center;}#sk-container-id-4 div.sk-container {/* jupyter's `normalize.less` sets `[hidden] { display: none; }` but bootstrap.min.css set `[hidden] { display: none !important; }` so we also need the `!important` here to be able to override the default hidden behavior on the sphinx rendered scikit-learn.org. See: https://github.com/scikit-learn/scikit-learn/issues/21755 */display: inline-block !important;position: relative;}#sk-container-id-4 div.sk-text-repr-fallback {display: none;}</style><div id=\"sk-container-id-4\" class=\"sk-top-container\"><div class=\"sk-text-repr-fallback\"><pre>XGBRegressor(base_score=None, booster=None, callbacks=None,\n",
       "             colsample_bylevel=None, colsample_bynode=None,\n",
       "             colsample_bytree=None, early_stopping_rounds=None,\n",
       "             enable_categorical=False, eval_metric=None, feature_types=None,\n",
       "             gamma=None, gpu_id=None, grow_policy=None, importance_type=None,\n",
       "             interaction_constraints=None, learning_rate=None, max_bin=None,\n",
       "             max_cat_threshold=None, max_cat_to_onehot=None,\n",
       "             max_delta_step=None, max_depth=None, max_leaves=None,\n",
       "             min_child_weight=None, missing=nan, monotone_constraints=None,\n",
       "             n_estimators=100, n_jobs=None, num_parallel_tree=None,\n",
       "             predictor=None, random_state=None, ...)</pre><b>In a Jupyter environment, please rerun this cell to show the HTML representation or trust the notebook. <br />On GitHub, the HTML representation is unable to render, please try loading this page with nbviewer.org.</b></div><div class=\"sk-container\" hidden><div class=\"sk-item\"><div class=\"sk-estimator sk-toggleable\"><input class=\"sk-toggleable__control sk-hidden--visually\" id=\"sk-estimator-id-8\" type=\"checkbox\" checked><label for=\"sk-estimator-id-8\" class=\"sk-toggleable__label sk-toggleable__label-arrow\">XGBRegressor</label><div class=\"sk-toggleable__content\"><pre>XGBRegressor(base_score=None, booster=None, callbacks=None,\n",
       "             colsample_bylevel=None, colsample_bynode=None,\n",
       "             colsample_bytree=None, early_stopping_rounds=None,\n",
       "             enable_categorical=False, eval_metric=None, feature_types=None,\n",
       "             gamma=None, gpu_id=None, grow_policy=None, importance_type=None,\n",
       "             interaction_constraints=None, learning_rate=None, max_bin=None,\n",
       "             max_cat_threshold=None, max_cat_to_onehot=None,\n",
       "             max_delta_step=None, max_depth=None, max_leaves=None,\n",
       "             min_child_weight=None, missing=nan, monotone_constraints=None,\n",
       "             n_estimators=100, n_jobs=None, num_parallel_tree=None,\n",
       "             predictor=None, random_state=None, ...)</pre></div></div></div></div></div>"
      ],
      "text/plain": [
       "XGBRegressor(base_score=None, booster=None, callbacks=None,\n",
       "             colsample_bylevel=None, colsample_bynode=None,\n",
       "             colsample_bytree=None, early_stopping_rounds=None,\n",
       "             enable_categorical=False, eval_metric=None, feature_types=None,\n",
       "             gamma=None, gpu_id=None, grow_policy=None, importance_type=None,\n",
       "             interaction_constraints=None, learning_rate=None, max_bin=None,\n",
       "             max_cat_threshold=None, max_cat_to_onehot=None,\n",
       "             max_delta_step=None, max_depth=None, max_leaves=None,\n",
       "             min_child_weight=None, missing=nan, monotone_constraints=None,\n",
       "             n_estimators=100, n_jobs=None, num_parallel_tree=None,\n",
       "             predictor=None, random_state=None, ...)"
      ]
     },
     "execution_count": 15,
     "metadata": {},
     "output_type": "execute_result"
    }
   ],
   "source": [
    "# Build a regression model\n",
    "\n",
    "X_train, y_train = train_df.drop(columns=[\"target\"]), train_df[\"target\"]\n",
    "X_test, y_test = test_df.drop(columns=[\"target\"]), train_df[\"target\"]\n",
    "\n",
    "model = XGBRegressor()\n",
    "model.fit(X_train, y_train)"
   ]
  },
  {
   "cell_type": "code",
   "execution_count": null,
   "id": "7e707c24",
   "metadata": {
    "execution": {
     "iopub.execute_input": "2023-08-22T14:34:09.857645Z",
     "iopub.status.busy": "2023-08-22T14:34:09.856484Z",
     "iopub.status.idle": "2023-08-22T14:34:09.965929Z",
     "shell.execute_reply": "2023-08-22T14:34:09.964815Z"
    },
    "id": "7e707c24",
    "outputId": "f080c377-2d77-41e7-a678-b204e8eb8e23"
   },
   "outputs": [
    {
     "data": {
      "text/html": [
       "<div>\n",
       "<style scoped>\n",
       "    .dataframe tbody tr th:only-of-type {\n",
       "        vertical-align: middle;\n",
       "    }\n",
       "\n",
       "    .dataframe tbody tr th {\n",
       "        vertical-align: top;\n",
       "    }\n",
       "\n",
       "    .dataframe thead th {\n",
       "        text-align: right;\n",
       "    }\n",
       "</style>\n",
       "<table border=\"1\" class=\"dataframe\">\n",
       "  <thead>\n",
       "    <tr style=\"text-align: right;\">\n",
       "      <th></th>\n",
       "      <th>Predicted_target</th>\n",
       "      <th>bedrooms</th>\n",
       "      <th>bathrooms</th>\n",
       "      <th>sqft_living</th>\n",
       "      <th>sqft_lot</th>\n",
       "      <th>floors</th>\n",
       "      <th>waterfront</th>\n",
       "      <th>view</th>\n",
       "      <th>condition</th>\n",
       "      <th>grade</th>\n",
       "      <th>sqft_above</th>\n",
       "      <th>sqft_basement</th>\n",
       "      <th>yr_built</th>\n",
       "      <th>yr_renovated</th>\n",
       "      <th>zipcode</th>\n",
       "      <th>lat</th>\n",
       "      <th>long</th>\n",
       "      <th>sqft_living15</th>\n",
       "      <th>sqft_lot15</th>\n",
       "    </tr>\n",
       "  </thead>\n",
       "  <tbody>\n",
       "    <tr>\n",
       "      <th>0</th>\n",
       "      <td>333981.6250</td>\n",
       "      <td>4</td>\n",
       "      <td>2.25</td>\n",
       "      <td>2130</td>\n",
       "      <td>8078</td>\n",
       "      <td>1.0</td>\n",
       "      <td>0</td>\n",
       "      <td>0</td>\n",
       "      <td>4</td>\n",
       "      <td>7</td>\n",
       "      <td>1380</td>\n",
       "      <td>750</td>\n",
       "      <td>1977</td>\n",
       "      <td>0</td>\n",
       "      <td>98055</td>\n",
       "      <td>47.4482</td>\n",
       "      <td>-122.209</td>\n",
       "      <td>2300</td>\n",
       "      <td>8112</td>\n",
       "    </tr>\n",
       "    <tr>\n",
       "      <th>1</th>\n",
       "      <td>615222.4375</td>\n",
       "      <td>3</td>\n",
       "      <td>2.50</td>\n",
       "      <td>2210</td>\n",
       "      <td>7620</td>\n",
       "      <td>2.0</td>\n",
       "      <td>0</td>\n",
       "      <td>0</td>\n",
       "      <td>3</td>\n",
       "      <td>8</td>\n",
       "      <td>2210</td>\n",
       "      <td>0</td>\n",
       "      <td>1994</td>\n",
       "      <td>0</td>\n",
       "      <td>98052</td>\n",
       "      <td>47.6938</td>\n",
       "      <td>-122.130</td>\n",
       "      <td>1920</td>\n",
       "      <td>7440</td>\n",
       "    </tr>\n",
       "    <tr>\n",
       "      <th>2</th>\n",
       "      <td>329770.0625</td>\n",
       "      <td>4</td>\n",
       "      <td>1.50</td>\n",
       "      <td>1800</td>\n",
       "      <td>9576</td>\n",
       "      <td>1.0</td>\n",
       "      <td>0</td>\n",
       "      <td>0</td>\n",
       "      <td>4</td>\n",
       "      <td>7</td>\n",
       "      <td>1800</td>\n",
       "      <td>0</td>\n",
       "      <td>1977</td>\n",
       "      <td>0</td>\n",
       "      <td>98045</td>\n",
       "      <td>47.4664</td>\n",
       "      <td>-121.747</td>\n",
       "      <td>1370</td>\n",
       "      <td>9576</td>\n",
       "    </tr>\n",
       "    <tr>\n",
       "      <th>3</th>\n",
       "      <td>565091.6250</td>\n",
       "      <td>3</td>\n",
       "      <td>2.50</td>\n",
       "      <td>1580</td>\n",
       "      <td>1321</td>\n",
       "      <td>2.0</td>\n",
       "      <td>0</td>\n",
       "      <td>2</td>\n",
       "      <td>3</td>\n",
       "      <td>8</td>\n",
       "      <td>1080</td>\n",
       "      <td>500</td>\n",
       "      <td>2014</td>\n",
       "      <td>0</td>\n",
       "      <td>98107</td>\n",
       "      <td>47.6688</td>\n",
       "      <td>-122.402</td>\n",
       "      <td>1530</td>\n",
       "      <td>1357</td>\n",
       "    </tr>\n",
       "  </tbody>\n",
       "</table>\n",
       "</div>"
      ],
      "text/plain": [
       "   Predicted_target  bedrooms  bathrooms  sqft_living  sqft_lot  floors  \\\n",
       "0       333981.6250         4       2.25         2130      8078     1.0   \n",
       "1       615222.4375         3       2.50         2210      7620     2.0   \n",
       "2       329770.0625         4       1.50         1800      9576     1.0   \n",
       "3       565091.6250         3       2.50         1580      1321     2.0   \n",
       "\n",
       "   waterfront  view  condition  grade  sqft_above  sqft_basement  yr_built  \\\n",
       "0           0     0          4      7        1380            750      1977   \n",
       "1           0     0          3      8        2210              0      1994   \n",
       "2           0     0          4      7        1800              0      1977   \n",
       "3           0     2          3      8        1080            500      2014   \n",
       "\n",
       "   yr_renovated  zipcode      lat     long  sqft_living15  sqft_lot15  \n",
       "0             0    98055  47.4482 -122.209           2300        8112  \n",
       "1             0    98052  47.6938 -122.130           1920        7440  \n",
       "2             0    98045  47.4664 -121.747           1370        9576  \n",
       "3             0    98107  47.6688 -122.402           1530        1357  "
      ]
     },
     "execution_count": 16,
     "metadata": {},
     "output_type": "execute_result"
    }
   ],
   "source": [
    "# Predict on unseen examples using the built model\n",
    "pred_df = pd.DataFrame(\n",
    "    # {\"Predicted target\": model.predict(X_test[0:4]).tolist(), \"Actual price\": y_test[0:4].tolist()}\n",
    "    {\"Predicted_target\": model.predict(X_test[0:4]).tolist()})\n",
    "df_concat = pd.concat([pred_df, X_test[0:4].reset_index(drop=True)], axis=1)\n",
    "df_concat"
   ]
  },
  {
   "cell_type": "markdown",
   "id": "5a5d8ed4",
   "metadata": {
    "id": "5a5d8ed4"
   },
   "source": [
    "To summarize, supervised machine learning can be used on a variety of problems and different kinds of data."
   ]
  },
  {
   "cell_type": "markdown",
   "id": "43c1c989",
   "metadata": {
    "id": "43c1c989"
   },
   "source": [
    "### Machine learning workflow\n",
    "\n",
    "Supervised machine learning is quite flexible; it can be used on a variety of problems and different kinds of data. Here is a typical workflow of a supervised machine learning system.\n",
    "\n",
    "We will build machine learning pipelines in this course, focusing on some of the steps below.\n",
    "\n",
    "<!-- ![ml-workflow.png](img/ml-workflow.png) -->\n",
    "<center><img src=\"https://yongkaw.people.clemson.edu/ece4420/img/ml-workflow.png\" alt=\"ml-workflow.png\" width=\"65%\"></center>"
   ]
  },
  {
   "cell_type": "markdown",
   "id": "472b6af0",
   "metadata": {
    "id": "472b6af0"
   },
   "source": [
    "## Summary\n",
    "\n",
    "- Machine learning is a different paradigm for problem-solving.\n",
    "- Very often it reduces the time you spend programming and helps customizing and scaling your products.\n",
    "- In supervised learning, we are given a set of observations ($X$) and their corresponding targets ($y$) and we wish to find a model function $f$ that relates $X$ to $y$.\n"
   ]
  },
  {
   "cell_type": "markdown",
   "id": "db01fd2f",
   "metadata": {
    "id": "db01fd2f"
   },
   "source": [
    "## Recommendation reading materials\n",
    "\n",
    "- [Machine Learning (Wikipedia)](https://en.wikipedia.org/wiki/Machine_learning)\n",
    "- [A Gentle Introduction to Machine Learning](https://youtu.be/Gv9_4yMHFhI)\n",
    "- [What is Machine Learning (YouTube)](https://www.youtube.com/watch?v=HcqpanDadyQ)\n",
    "- [The 7 steps of machine learning (Youtube)](https://www.youtube.com/watch?v=nKW8Ndu7Mjw)"
   ]
  },
  {
   "cell_type": "markdown",
   "id": "3247acff",
   "metadata": {
    "id": "3247acff"
   },
   "source": [
    "<hr>"
   ]
  }
 ],
 "metadata": {
  "colab": {
   "provenance": []
  },
  "kernelspec": {
   "display_name": "Python 3 (ipykernel)",
   "language": "python",
   "name": "python3"
  },
  "language_info": {
   "codemirror_mode": {
    "name": "ipython",
    "version": 3
   },
   "file_extension": ".py",
   "mimetype": "text/x-python",
   "name": "python",
   "nbconvert_exporter": "python",
   "pygments_lexer": "ipython3",
   "version": "3.10.12"
  }
 },
 "nbformat": 4,
 "nbformat_minor": 5
}