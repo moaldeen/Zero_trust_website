{
 "cells": [
  {
   "cell_type": "markdown",
   "id": "71ccf2f8",
   "metadata": {
    "id": "71ccf2f8"
   },
   "source": [
    "# Introduction to Zero Trust\n",
    "- Update: 2024\n",
    "- Duration: 75 minutes\n",
    "\n",
    "<hr>"
   ]
  },
  {
   "cell_type": "markdown",
   "id": "000a854b",
   "metadata": {
    "id": "000a854b"
   },
   "source": [
    "## Why Do We Need Zero Trust?"
   ]
  },
  {
   "cell_type": "markdown",
   "id": "6130b92a",
   "metadata": {
    "id": "6130b92a"
   },
   "source": [
    "\n",
    "\n",
    "Traditional security measures like firewalls and user ID/password systems were once considered sufficient to protect corporate networks. However, these systems have proven vulnerable to cybercriminals who exploit stolen credentials to gain unauthorized access, leading to data theft, manipulation, or ransomware attacks. The shift towards remote work, personal devices, and cloud services has further complicated the security landscape, making the corporate network perimeter less relevant. Instead, securing individual identities has become paramount.\n",
    "<!-- ![ml-examples.png](img/ml-examples.png) -->\n",
    "<center><img src=\"https://github.com/moaldeen/trustzone/blob/main/traditional.png?raw=true\" alt=\"ml-examples.png\" width=\"55%\"></center>\n",
    "\n",
    "\n",
    "Traditional network security architecture breaks different networks (or pieces of a single network) into zones, contained by one or more firewalls. Each zone is granted some level of trust, which determines the network resources it is permitted to reach. This model provides very strong defensein- depth.\n"
   ]
  },
  {
   "cell_type": "markdown",
   "id": "d09bbab7",
   "metadata": {
    "id": "d09bbab7"
   },
   "source": [
    "### Security Breaches Example\n",
    "\n",
    "- Colonial Pipeline:\n",
    "\n",
    " Attackers took advantage of the fact that the VPN connection to Colonial Pipeline network was possible using a plain text password without any multi-factor authentication in-place.\n",
    "\n",
    "- Kudankulam Nuclear Power Plant:\n",
    "\n",
    "  Malware was discovered on an Indian nuclear power plant employee’s computer that was connected to the administrative network’s internet servers. Once the attackers gained access, they were able to roam within the network due to “trust” that comes with being inside the network.\n",
    "\n",
    "<div style=\"display: flex; justify-content: center;\">\n",
    "  <img src=\"https://github.com/moaldeen/trustzone/blob/main/password.png?raw=true\" alt=\"ml-examples.png\" width=\"30%\">\n",
    "  <img src=\"https://github.com/moaldeen/trustzone/blob/main/nuclear.png?raw=true\" alt=\"ml-examples.png\" width=\"25%\">\n",
    "</div>"
   ]
  },
  {
   "cell_type": "markdown",
   "id": "e4bbd2a9",
   "metadata": {
    "id": "e4bbd2a9"
   },
   "source": [
    "## What Is Zero Trust?"
   ]
  },
  {
   "cell_type": "markdown",
   "id": "d5fad2a0",
   "metadata": {
    "id": "d5fad2a0"
   },
   "source": [
    "\n",
    "\n",
    "The Zero Trust is model, strategy, and framework that trusts nothing by default \"never trust, always verify.\" It assumes that threats exist both inside and outside the network, and therefore, every access request must be authenticated, authorized, and continuously validated regardless of its origin. For example, involves strong identity verification, validating device compliance before access, and least privilege access to resources.\n",
    "\n",
    "Zero Trust is not a singular technology, and does not have singular authoritative definition of Zero Trust.\n",
    "\n",
    "Examples of Zero Trust Definitions:\n",
    "<!DOCTYPE html>\n",
    "<html lang=\"en\">\n",
    "<head>\n",
    "    <meta charset=\"UTF-8\">\n",
    "    <meta name=\"viewport\" content=\"width=device-width, initial-scale=1.0\">\n",
    "    <style>\n",
    "        table {\n",
    "            width: 100%;\n",
    "        }\n",
    "        td {\n",
    "            vertical-align: top;\n",
    "            padding-left: 10px;\n",
    "        }\n",
    "        .logo {\n",
    "            width: 50px;\n",
    "        }\n",
    "        .text {\n",
    "            width: 300px;\n",
    "        }\n",
    "    </style>\n",
    "</head>\n",
    "<body>\n",
    "    <table>\n",
    "        <tr>\n",
    "            <td class=\"logo\">\n",
    "                <img src=\"https://encrypted-tbn2.gstatic.com/images?q=tbn:ANd9GcRU6-ahQYkCqbZQZKMEXDIzYedPx2gNNfX601knCHdBSVb1-9bV\" alt=\"NSA Logo\" width=\"50\">\n",
    "            </td>\n",
    "            <td class=\"text\">\n",
    "                Zero Trust is a <strong>security model</strong>,\n",
    "                a set of <strong>system design principles</strong>,\n",
    "                and a coordinated cybersecurity approach.<br>\n",
    "                It aims to prevent unauthorized access to data\n",
    "                and services regardless of physical or network\n",
    "                location, emphasizing strict access controls\n",
    "                and a \"trust no one\" mentality.\n",
    "            </td>\n",
    "        </tr>\n",
    "        <tr>\n",
    "            <td class=\"logo\">\n",
    "                <img src=\"https://cdn.icon-icons.com/icons2/2699/PNG/512/nist_logo_icon_168078.png\" alt=\"NIST\" width=\"50\">\n",
    "            </td>\n",
    "            <td class=\"text\">\n",
    "                Zero trust assumes there is no implicit trust granted  to assets or user accounts based solely on their physical or network location<br> (that is, local area networks versus the internet) or based on asset ownership (enterprise or personally owned).\n",
    "            </td>\n",
    "        </tr>\n",
    "        <tr>\n",
    "            <td class=\"logo\">\n",
    "                <img src=\"https://cf-assets.www.cloudflare.com/slt3lc6tev37/6lqgerXP230AIMluLJZkNZ/ff759aac93876f7bf3646c6f5293c28e/vmware_logo_high_res.png\" alt=\"VMware Logo\" width=\"50\">\n",
    "            </td>\n",
    "            <td class=\"text\">\n",
    "                Zero Trust is the name for an approach to IT<\n",
    "                security that assumes there is <strong>no implicit<br>\n",
    "                trust</strong> granted to assets or user accounts\n",
    "                based solely on their network location or asset\n",
    "                ownership.<br>\n",
    "                It requires strict identity verification and access\n",
    "                controls.\n",
    "            </td>\n",
    "        </tr>\n",
    "    </table>\n",
    "</body>\n",
    "</html>\n",
    "\n",
    "\n",
    " Traditional perimeter-based security is no longer effective as businesses adopt cloud services and remote work. Zero Trust provides a more robust approach by continuously verifying every access request, regardless of location\n"
   ]
  },
  {
   "cell_type": "markdown",
   "id": "HpDNpr2C2-_g",
   "metadata": {
    "id": "HpDNpr2C2-_g"
   },
   "source": [
    "### **Case Study: Microsoft Zero Trust Solutions**\n",
    "\n",
    "<center><img src=\"https://github.com/moaldeen/trustzone/blob/main/image.png?raw=true\" alt=\"ml-examples.png\" width=\"55%\"></center>\n",
    "\n",
    "\n",
    "\n",
    "According to the Forrester Total Economic Impact™ study on Zero Trust solutions from Microsoft, implementing a Zero Trust architecture using Microsoft solutions provides significant financial benefits:\n",
    "\n",
    "\n",
    "- Return on Investment (ROI): 92%.\n",
    "- Total Benefits (Present Value): $24.1M\n",
    "\n",
    "- Net Present Value (NPV): $11.6M.\n",
    "- Payback Period: Less than 6 months\n"
   ]
  },
  {
   "cell_type": "markdown",
   "id": "xF9NaeefzXtF",
   "metadata": {
    "id": "xF9NaeefzXtF"
   },
   "source": [
    "### Zero Trust Historical Timline\n",
    "\n",
    "Zero Trust is not a new IT security strategy; it has been around for a while\n",
    "<center><img src=\"https://www.microsoft.com/en-us/security/blog//wp-content/uploads/2019/11/Zero-Trust-strategy-what-good-looks-like-2.png\" alt=\"ml-examples.png\" width=\"55%\"></center>\n",
    "\n",
    "\n",
    "<center><img src=\"https://assets.weforum.org/editor/-k-_ykZv-f0JpyRyrV1Vayo0gZkyx4dLRUl-3c7FrLo.png\" alt=\"ml-examples.png\" width=\"55%\"></center>\n",
    "\n",
    "\n"
   ]
  },
  {
   "cell_type": "markdown",
   "id": "38eae19a",
   "metadata": {
    "id": "38eae19a"
   },
   "source": [
    "### **Key Principles of Zero Trust**\n",
    "\n",
    "- Always Verify.\n",
    "- Use Least-Privilege Access.\n",
    "- Assume Breach.\n",
    "\n",
    "<!-- ![sup-learning.png](img/sup-learning.png) -->\n",
    "<center><img src=\"https://github.com/moaldeen/trustzone/blob/main/concepts.jpg?raw=true\" alt=\"sup-learning.png\" width=\"40%\"></center>"
   ]
  },
  {
   "cell_type": "markdown",
   "id": "KnnbA73LWS3Y",
   "metadata": {
    "id": "KnnbA73LWS3Y"
   },
   "source": [
    "\n",
    "**A zero trust network is built upon five fundamental assumptions:**\n",
    "- The network is always assumed to be hostile.\n",
    "- External and internal threats exist on the network at all times\n",
    "- Network locality alone is not sufficient for deciding trust in a network.\n",
    "- Every device, user, and network flow is authenticated and authorized.\n",
    "- Policies must be dynamic and calculated from as many sources of data\n",
    "as possible.\n",
    "\n",
    "\n",
    "\n",
    "<center><img src=\"https://github.com/moaldeen/trustzone/blob/main/zero-trust-vs-trust-based-network-shadow.png?raw=true\" alt=\"ml-examples.png\" width=\"50%\"></center>\n",
    "\n",
    "\n",
    "**Takeway:** Zero Trust is an improvement on the traditional perimeter security model, which is insufficient in modern IT infrastructure environments."
   ]
  },
  {
   "cell_type": "markdown",
   "id": "etkWyiFnd3Jw",
   "metadata": {
    "id": "etkWyiFnd3Jw"
   },
   "source": [
    "###**Zero Trust Enterprise**\n",
    "\n",
    "**Zero Trust:**\n",
    "A security model, framework, and strategy.\n",
    "\n",
    "\n",
    "**Zero Trust Architecture :** An organization’s cybersecurity plan that utilizes zero trust concepts and encompasses component\n",
    "relationships, workflow planning, and access policies.\n",
    "\n",
    "**Zero Trust Enterprise:** Zero Trust + Zero Trust Architecture"
   ]
  },
  {
   "cell_type": "markdown",
   "id": "2vj0ENpCMAyI",
   "metadata": {
    "id": "2vj0ENpCMAyI"
   },
   "source": [
    "### **NIST Core Tenants of Zero Trust Architecture**\n",
    "\n",
    "<!-- ![sup-learning.png](img/sup-learning.png) -->\n",
    "<center><img src=\"https://github.com/moaldeen/trustzone/blob/main/diagram.PNG?raw=true\" alt=\"sup-learning.png\" width=\"60%\"></center>"
   ]
  },
  {
   "cell_type": "markdown",
   "id": "98Ag_DeyRvde",
   "metadata": {
    "id": "98Ag_DeyRvde"
   },
   "source": [
    "### **Zero Trust Pillars**\n",
    "<!-- ![sup-learning.png](img/sup-learning.png) -->\n",
    "<center><img src=\"https://github.com/moaldeen/trustzone/blob/main/zero%20trust%20pillars.jpg?raw=true\" alt=\"sup-learning.png\" width=\"60%\"></center>\n",
    "\n",
    "The General Services Administration (GSA) outlines a comprehensive approach to implementing Zero Trust Architecture (ZTA) through its Zero Trust Architecture Buyer’s Guide. The GSA's model incorporates eight unique pillars that agencies should consider for a robust Zero Trust security model:\n",
    "\n",
    "\n",
    "- **Users:** Focuses on user identification, authentication, and access control policies to verify user attempts to connect to the network using dynamic and contextual data analysis.\n",
    "- **Device:** Validates user-controlled and autonomous devices to determine their cybersecurity posture and trustworthiness.\n",
    "- **Network:** Isolates sensitive resources by dynamically defining network access, deploying micro-segmentation techniques, and controlling network flows while encrypting end-to-end traffic.\n",
    "- **Application:** Secures access at the application layer by integrating user, device, and data components, and wrapping each workload and compute container to prevent unauthorized access or tampering.\n",
    "- **Data:** Focuses on securing and enforcing access to data based on its categorization and classification, isolating it from everyone except those who need access.\n",
    "- **Visibility and Analytics:** Provides insight into user and system behavior analytics by observing real-time communications between all Zero Trust components.\n",
    "- **Orchestration and Automation:** Automates security and network operational processes across the ZTA by orchestrating functions between similar and disparate security systems and applications."
   ]
  },
  {
   "cell_type": "markdown",
   "id": "3247acff",
   "metadata": {
    "id": "3247acff"
   },
   "source": [
    "<hr>"
   ]
  }
 ],
 "metadata": {
  "colab": {
   "provenance": []
  },
  "kernelspec": {
   "display_name": "Python 3 (ipykernel)",
   "language": "python",
   "name": "python3"
  },
  "language_info": {
   "codemirror_mode": {
    "name": "ipython",
    "version": 3
   },
   "file_extension": ".py",
   "mimetype": "text/x-python",
   "name": "python",
   "nbconvert_exporter": "python",
   "pygments_lexer": "ipython3",
   "version": "3.10.12"
  }
 },
 "nbformat": 4,
 "nbformat_minor": 5
}